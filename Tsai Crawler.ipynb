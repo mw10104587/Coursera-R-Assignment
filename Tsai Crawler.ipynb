{
 "cells": [
  {
   "cell_type": "code",
   "execution_count": 34,
   "metadata": {
    "collapsed": true
   },
   "outputs": [],
   "source": [
    "access_token = \"874261059281256|CD_82N4xq6EROrOi0PogO4IEtq8\""
   ]
  },
  {
   "cell_type": "code",
   "execution_count": 43,
   "metadata": {
    "collapsed": false
   },
   "outputs": [
    {
     "name": "stdout",
     "output_type": "stream",
     "text": [
      "\n",
      "The downloaded binary packages are in\n",
      "\t/var/folders/nj/mmt3l4jn1_zgg7b7ft_hk4nc0000gq/T//Rtmp3kFf7I/downloaded_packages\n",
      "\n",
      "The downloaded binary packages are in\n",
      "\t/var/folders/nj/mmt3l4jn1_zgg7b7ft_hk4nc0000gq/T//Rtmp3kFf7I/downloaded_packages\n"
     ]
    }
   ],
   "source": [
    "# Install RCurl\n",
    "install.packages(\"RCurl\", repos='http://cran.us.r-project.org')\n",
    "install.packages(\"rjson\", repos=\"http://cran.us.r-project.org\")"
   ]
  },
  {
   "cell_type": "code",
   "execution_count": 44,
   "metadata": {
    "collapsed": true
   },
   "outputs": [],
   "source": [
    "# Load RCurl Library\n",
    "library(RCurl)\n",
    "library(rjson)"
   ]
  },
  {
   "cell_type": "code",
   "execution_count": 41,
   "metadata": {
    "collapsed": false
   },
   "outputs": [
    {
     "data": {
      "text/html": [
       "'https://graph.facebook.com/46251501064?access_token=874261059281256|CD_82N4xq6EROrOi0PogO4IEtq8'"
      ],
      "text/latex": [
       "'https://graph.facebook.com/46251501064?access_token=874261059281256|CD_82N4xq6EROrOi0PogO4IEtq8'"
      ],
      "text/markdown": [
       "'https://graph.facebook.com/46251501064?access_token=874261059281256|CD_82N4xq6EROrOi0PogO4IEtq8'"
      ],
      "text/plain": [
       "[1] \"https://graph.facebook.com/46251501064?access_token=874261059281256|CD_82N4xq6EROrOi0PogO4IEtq8\""
      ]
     },
     "execution_count": 41,
     "metadata": {},
     "output_type": "execute_result"
    }
   ],
   "source": [
    "# help(sprintf)\n",
    "# A wrapper for the C function sprintf, that returns \n",
    "# a character vector containing a formatted combination of text and variable values.\n",
    "\n",
    "f_url <-sprintf( \"https://graph.facebook.com/%s?access_token=%s\", \"46251501064\", access_token )\n",
    "f_url"
   ]
  },
  {
   "cell_type": "code",
   "execution_count": 42,
   "metadata": {
    "collapsed": false
   },
   "outputs": [
    {
     "data": {
      "text/html": [
       "'{\"id\":\"46251501064\",\"about\":\"「台灣的好，不應該輕易被擊倒。當新時代已經敲門，我們必須把門打開，讓世界看見台灣的好。」\",\"birthday\":\"08/31/1956\",\"can_post\":false,\"category\":\"Politician\",\"checkins\":0,\"cover\":{\"cover_id\":\"10153124168206065\",\"offset_x\":0,\"offset_y\":0,\"source\":\"https://scontent.xx.fbcdn.net/hphotos-xaf1/t31.0-8/s720x720/920657_10153124168206065_940257342959364028_o.jpg\",\"id\":\"10153124168206065\"},\"has_added_app\":false,\"hometown\":\"屏東Pingtung, Taiwan\",\"is_community_page\":false,\"is_published\":true,\"likes\":1864420,\"link\":\"https://www.facebook.com/tsaiingwen/\",\"name\":\"蔡英文 Tsai Ing-wen\",\"parking\":{\"lot\":0,\"street\":0,\"valet\":0},\"personal_info\":\"民主進步黨\n",
       "10441台北市中正區北平東路30號10樓\",\"phone\":\"886-2-23929989\",\"talking_about_count\":1072501,\"username\":\"tsaiingwen\",\"website\":\"http://iing.tw/\",\"were_here_count\":0}'"
      ],
      "text/latex": [
       "'{\"id\":\"46251501064\",\"about\":\"「台灣的好，不應該輕易被擊倒。當新時代已經敲門，我們必須把門打開，讓世界看見台灣的好。」\",\"birthday\":\"08/31/1956\",\"can_post\":false,\"category\":\"Politician\",\"checkins\":0,\"cover\":{\"cover_id\":\"10153124168206065\",\"offset_x\":0,\"offset_y\":0,\"source\":\"https://scontent.xx.fbcdn.net/hphotos-xaf1/t31.0-8/s720x720/920657_10153124168206065_940257342959364028_o.jpg\",\"id\":\"10153124168206065\"},\"has_added_app\":false,\"hometown\":\"屏東Pingtung, Taiwan\",\"is_community_page\":false,\"is_published\":true,\"likes\":1864420,\"link\":\"https://www.facebook.com/tsaiingwen/\",\"name\":\"蔡英文 Tsai Ing-wen\",\"parking\":{\"lot\":0,\"street\":0,\"valet\":0},\"personal_info\":\"民主進步黨\n",
       "10441台北市中正區北平東路30號10樓\",\"phone\":\"886-2-23929989\",\"talking_about_count\":1072501,\"username\":\"tsaiingwen\",\"website\":\"http://iing.tw/\",\"were_here_count\":0}'"
      ],
      "text/markdown": [
       "'{\"id\":\"46251501064\",\"about\":\"「台灣的好，不應該輕易被擊倒。當新時代已經敲門，我們必須把門打開，讓世界看見台灣的好。」\",\"birthday\":\"08/31/1956\",\"can_post\":false,\"category\":\"Politician\",\"checkins\":0,\"cover\":{\"cover_id\":\"10153124168206065\",\"offset_x\":0,\"offset_y\":0,\"source\":\"https://scontent.xx.fbcdn.net/hphotos-xaf1/t31.0-8/s720x720/920657_10153124168206065_940257342959364028_o.jpg\",\"id\":\"10153124168206065\"},\"has_added_app\":false,\"hometown\":\"屏東Pingtung, Taiwan\",\"is_community_page\":false,\"is_published\":true,\"likes\":1864420,\"link\":\"https://www.facebook.com/tsaiingwen/\",\"name\":\"蔡英文 Tsai Ing-wen\",\"parking\":{\"lot\":0,\"street\":0,\"valet\":0},\"personal_info\":\"民主進步黨\n",
       "10441台北市中正區北平東路30號10樓\",\"phone\":\"886-2-23929989\",\"talking_about_count\":1072501,\"username\":\"tsaiingwen\",\"website\":\"http://iing.tw/\",\"were_here_count\":0}'"
      ],
      "text/plain": [
       "[1] \"{\\\"id\\\":\\\"46251501064\\\",\\\"about\\\":\\\"「台灣的好，不應該輕易被擊倒。當新時代已經敲門，我們必須把門打開，讓世界看見台灣的好。」\\\",\\\"birthday\\\":\\\"08/31/1956\\\",\\\"can_post\\\":false,\\\"category\\\":\\\"Politician\\\",\\\"checkins\\\":0,\\\"cover\\\":{\\\"cover_id\\\":\\\"10153124168206065\\\",\\\"offset_x\\\":0,\\\"offset_y\\\":0,\\\"source\\\":\\\"https://scontent.xx.fbcdn.net/hphotos-xaf1/t31.0-8/s720x720/920657_10153124168206065_940257342959364028_o.jpg\\\",\\\"id\\\":\\\"10153124168206065\\\"},\\\"has_added_app\\\":false,\\\"hometown\\\":\\\"屏東Pingtung, Taiwan\\\",\\\"is_community_page\\\":false,\\\"is_published\\\":true,\\\"likes\\\":1864420,\\\"link\\\":\\\"https://www.facebook.com/tsaiingwen/\\\",\\\"name\\\":\\\"蔡英文 Tsai Ing-wen\\\",\\\"parking\\\":{\\\"lot\\\":0,\\\"street\\\":0,\\\"valet\\\":0},\\\"personal_info\\\":\\\"民主進步黨\\n10441台北市中正區北平東路30號10樓\\\",\\\"phone\\\":\\\"886-2-23929989\\\",\\\"talking_about_count\\\":1072501,\\\"username\\\":\\\"tsaiingwen\\\",\\\"website\\\":\\\"http://iing.tw/\\\",\\\"were_here_count\\\":0}\""
      ]
     },
     "execution_count": 42,
     "metadata": {},
     "output_type": "execute_result"
    }
   ],
   "source": [
    "connect <- getURL(f_url)\n",
    "connect"
   ]
  },
  {
   "cell_type": "code",
   "execution_count": null,
   "metadata": {
    "collapsed": true
   },
   "outputs": [],
   "source": []
  }
 ],
 "metadata": {
  "kernelspec": {
   "display_name": "R",
   "language": "R",
   "name": "ir"
  },
  "language_info": {
   "codemirror_mode": "r",
   "file_extension": ".r",
   "mimetype": "text/x-r-source",
   "name": "R",
   "pygments_lexer": "r",
   "version": "3.2.2"
  }
 },
 "nbformat": 4,
 "nbformat_minor": 0
}
