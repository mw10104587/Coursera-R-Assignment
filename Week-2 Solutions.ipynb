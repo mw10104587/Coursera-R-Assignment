{
 "cells": [
  {
   "cell_type": "code",
   "execution_count": 1,
   "metadata": {
    "collapsed": true
   },
   "outputs": [],
   "source": [
    "cube <- function(x, n) {\n",
    "        x^3\n",
    "}"
   ]
  },
  {
   "cell_type": "code",
   "execution_count": 2,
   "metadata": {
    "collapsed": false
   },
   "outputs": [
    {
     "data": {
      "text/html": [
       "27"
      ],
      "text/latex": [
       "27"
      ],
      "text/markdown": [
       "27"
      ],
      "text/plain": [
       "[1] 27"
      ]
     },
     "execution_count": 2,
     "metadata": {},
     "output_type": "execute_result"
    }
   ],
   "source": [
    "cube(3)"
   ]
  },
  {
   "cell_type": "code",
   "execution_count": 3,
   "metadata": {
    "collapsed": true
   },
   "outputs": [],
   "source": [
    "f <- function(x) {\n",
    "        g <- function(y) {\n",
    "                y + z\n",
    "        }\n",
    "        z <- 4\n",
    "        x + g(x)\n",
    "}"
   ]
  },
  {
   "cell_type": "code",
   "execution_count": 4,
   "metadata": {
    "collapsed": false
   },
   "outputs": [
    {
     "data": {
      "text/html": [
       "10"
      ],
      "text/latex": [
       "10"
      ],
      "text/markdown": [
       "10"
      ],
      "text/plain": [
       "[1] 10"
      ]
     },
     "execution_count": 4,
     "metadata": {},
     "output_type": "execute_result"
    }
   ],
   "source": [
    "z <- 10\n",
    "f(3)"
   ]
  },
  {
   "cell_type": "code",
   "execution_count": 5,
   "metadata": {
    "collapsed": true
   },
   "outputs": [],
   "source": [
    "x <- 5\n",
    "y <- if(x < 3) {\n",
    "        NA\n",
    "} else {\n",
    "        10\n",
    "}"
   ]
  },
  {
   "cell_type": "code",
   "execution_count": 6,
   "metadata": {
    "collapsed": false
   },
   "outputs": [
    {
     "data": {
      "text/html": [
       "10"
      ],
      "text/latex": [
       "10"
      ],
      "text/markdown": [
       "10"
      ],
      "text/plain": [
       "[1] 10"
      ]
     },
     "execution_count": 6,
     "metadata": {},
     "output_type": "execute_result"
    }
   ],
   "source": [
    "y"
   ]
  },
  {
   "cell_type": "markdown",
   "metadata": {},
   "source": [
    "<h2>Part 1</h2>\n",
    "\n",
    "Write a function named 'pollutantmean' that calculates the mean of a pollutant (sulfate or nitrate) across a specified list of monitors. The function 'pollutantmean' takes three arguments: 'directory', 'pollutant', and 'id'. Given a vector monitor ID numbers, 'pollutantmean' reads that monitors' particulate matter data from the directory specified in the 'directory' argument and returns the mean of the pollutant across all of the monitors, ignoring any missing values coded as NA. A prototype of the function is as follows"
   ]
  },
  {
   "cell_type": "code",
   "execution_count": 98,
   "metadata": {
    "collapsed": false
   },
   "outputs": [
    {
     "data": {
      "text/html": [
       "4.06412824256036"
      ],
      "text/latex": [
       "4.06412824256036"
      ],
      "text/markdown": [
       "4.06412824256036"
      ],
      "text/plain": [
       "[1] 4.064128"
      ]
     },
     "execution_count": 98,
     "metadata": {},
     "output_type": "execute_result"
    },
    {
     "data": {
      "text/html": [
       "1.70604735169492"
      ],
      "text/latex": [
       "1.70604735169492"
      ],
      "text/markdown": [
       "1.70604735169492"
      ],
      "text/plain": [
       "[1] 1.706047"
      ]
     },
     "execution_count": 98,
     "metadata": {},
     "output_type": "execute_result"
    },
    {
     "data": {
      "text/html": [
       "1.47714303030303"
      ],
      "text/latex": [
       "1.47714303030303"
      ],
      "text/markdown": [
       "1.47714303030303"
      ],
      "text/plain": [
       "[1] 1.477143"
      ]
     },
     "execution_count": 98,
     "metadata": {},
     "output_type": "execute_result"
    },
    {
     "data": {
      "text/html": [
       "1.70293184286701"
      ],
      "text/latex": [
       "1.70293184286701"
      ],
      "text/markdown": [
       "1.70293184286701"
      ],
      "text/plain": [
       "[1] 1.702932"
      ]
     },
     "execution_count": 98,
     "metadata": {},
     "output_type": "execute_result"
    }
   ],
   "source": [
    "# function one done\n",
    "\n",
    "pollutantmean = function(directory, pollutant, id=1:332){\n",
    "    \n",
    "    # pollutant has two values, sulfate and nitrate\n",
    "    data_to_count = data.frame(Date=as.Date(character()),\n",
    "                 sulfate=double(), \n",
    "                 nitrate=double(), \n",
    "                 ID = integer(),\n",
    "                 stringsAsFactors=FALSE) \n",
    "    \n",
    "    files = list.files(\"data/specdata\")[id]\n",
    "    \n",
    "    for(file_name in files){\n",
    "        \n",
    "        file = read.csv(paste(directory, \"/\", file_name, sep=\"\"), stringsAsFactors=FALSE)\n",
    "        data_to_count = rbind(data_to_count, file)\n",
    "    }\n",
    "    \n",
    "    # it's na.rm not rm.na\n",
    "    # use double bracket to get the inner class, orelse single bracket only returns the same class, which is\n",
    "    # a data.frame\n",
    "    mean(data_to_count[[pollutant]], na.rm=TRUE)\n",
    "\n",
    "}\n",
    "\n",
    "# quiz Q1\n",
    "pollutantmean(\"data/specdata\", \"sulfate\", 1:10)\n",
    "\n",
    "# quiz Q2\n",
    "pollutantmean(\"data/specdata\", \"nitrate\", 70:72)\n",
    "\n",
    "# quiz Q3\n",
    "pollutantmean(\"data/specdata\", \"sulfate\", 34)\n",
    "\n",
    "# quiz Q4\n",
    "pollutantmean(\"data/specdata\", \"nitrate\")\n",
    "\n",
    "\n"
   ]
  },
  {
   "cell_type": "markdown",
   "metadata": {},
   "source": [
    "<h2>Part 2</h2>\n",
    "\n",
    "Write a function that reads a directory full of files and reports the number of completely observed cases in each data file. The function should return a data frame where the first column is the name of the file and the second column is the number of complete cases. A prototype of this function follows"
   ]
  },
  {
   "cell_type": "code",
   "execution_count": 99,
   "metadata": {
    "collapsed": false
   },
   "outputs": [
    {
     "name": "stdout",
     "output_type": "stream",
     "text": [
      "[1] 228 148 124 165 104 460 232\n",
      "[1] 219\n",
      " [1] 711 135  74 445 178  73  49   0 687 237\n"
     ]
    }
   ],
   "source": [
    "complete = function(directory, id=1:332){\n",
    "    \n",
    "    # final objct to return\n",
    "    complete_data = data.frame(id=integer(),nobs=integer() )\n",
    "    \n",
    "    # use the numeric for loop here, instead of looping through the name,    \n",
    "    # so we can use the number as id.     \n",
    "    for(my_id in id){\n",
    "        \n",
    "        file_name = list.files(directory)[my_id]\n",
    "        path = paste(directory, \"/\", file_name, sep=\"\")\n",
    "        \n",
    "        observe_station = read.csv(path)\n",
    "        observe_station = observe_station[complete.cases(observe_station),]\n",
    "        complete_count = dim(observe_station)[1]\n",
    "        \n",
    "        # append it to the final data\n",
    "        complete_data = rbind(complete_data, data.frame(id=c(my_id), nobs=c(complete_count)))\n",
    "    }\n",
    "    \n",
    "    return(complete_data)\n",
    "}\n",
    "\n",
    "cc <- complete(\"data/specdata\", c(6, 10, 20, 34, 100, 200, 310))\n",
    "print(cc$nobs)\n",
    "\n",
    "cc <- complete(\"data/specdata\", 54)\n",
    "print(cc$nobs)\n",
    "\n",
    "set.seed(42)\n",
    "cc <- complete(\"data/specdata\", 332:1)\n",
    "use <- sample(332, 10)\n",
    "print(cc[use, \"nobs\"])\n"
   ]
  },
  {
   "cell_type": "markdown",
   "metadata": {},
   "source": [
    "<h2>Part 3</h2>\n",
    "\n",
    "Write a function that takes a directory of data files and a threshold for complete cases and calculates the correlation between sulfate and nitrate for monitor locations where the number of completely observed cases (on all variables) is greater than the threshold. The function should return a vector of correlations for the monitors that meet the threshold requirement. If no monitors meet the threshold requirement, then the function should return a numeric vector of length 0. A prototype of this function follows"
   ]
  },
  {
   "cell_type": "code",
   "execution_count": 102,
   "metadata": {
    "collapsed": false
   },
   "outputs": [
    {
     "name": "stdout",
     "output_type": "stream",
     "text": [
      "[1]  0.2688  0.1127 -0.0085  0.4586  0.0447\n",
      "[1] 243.0000   0.2540   0.0504  -0.1462  -0.1680   0.5969\n",
      "[1]  0.0000 -0.0190  0.0419  0.1901\n"
     ]
    }
   ],
   "source": [
    "corr = function(directory, threshold=0){\n",
    "    \n",
    "    corr_vec = double()\n",
    "    # returns a vector of correlations\n",
    "    # print(list.files(directory))\n",
    "    for(file_name in list.files(directory)){\n",
    "        # print(file_name)\n",
    "        # if the number of complete is larger than threshold, \n",
    "        # we count the corr, and append.\n",
    "        file_path = paste(directory, \"/\", file_name, sep=\"\")\n",
    "        observe_data = read.csv(file_path)\n",
    "        \n",
    "        complete_data = observe_data[complete.cases(observe_data),]\n",
    "        \n",
    "        if(dim(complete_data)[1] > threshold){\n",
    "            corr_vec = c(corr_vec, cor(complete_data$sulfate, complete_data$nitrate))\n",
    "        }\n",
    "        \n",
    "    }\n",
    "    \n",
    "    return(corr_vec)\n",
    "    \n",
    "}\n",
    "\n",
    "# quiz Q8 \n",
    "cr <- corr(\"data/specdata\")                \n",
    "cr <- sort(cr)                \n",
    "set.seed(868)                \n",
    "out <- round(cr[sample(length(cr), 5)], 4)\n",
    "print(out)\n",
    "\n",
    "# quiz Q9\n",
    "cr <- corr(\"data/specdata\", 129)                \n",
    "cr <- sort(cr)                \n",
    "n <- length(cr)                \n",
    "set.seed(197)                \n",
    "out <- c(n, round(cr[sample(n, 5)], 4))\n",
    "print(out)\n",
    "\n",
    "# quiz Q10\n",
    "cr <- corr(\"data/specdata\", 2000)                \n",
    "n <- length(cr)                \n",
    "cr <- corr(\"data/specdata\", 1000)                \n",
    "cr <- sort(cr)\n",
    "print(c(n, round(cr, 4)))"
   ]
  },
  {
   "cell_type": "code",
   "execution_count": null,
   "metadata": {
    "collapsed": true
   },
   "outputs": [],
   "source": []
  }
 ],
 "metadata": {
  "kernelspec": {
   "display_name": "R",
   "language": "R",
   "name": "ir"
  },
  "language_info": {
   "codemirror_mode": "r",
   "file_extension": ".r",
   "mimetype": "text/x-r-source",
   "name": "R",
   "pygments_lexer": "r",
   "version": "3.2.2"
  }
 },
 "nbformat": 4,
 "nbformat_minor": 0
}
