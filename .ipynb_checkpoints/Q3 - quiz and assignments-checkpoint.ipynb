{
 "cells": [
  {
   "cell_type": "code",
   "execution_count": 1,
   "metadata": {
    "collapsed": true
   },
   "outputs": [],
   "source": [
    "library(datasets)\n",
    "data(iris)"
   ]
  },
  {
   "cell_type": "code",
   "execution_count": 45,
   "metadata": {
    "collapsed": false
   },
   "outputs": [
    {
     "data": {
      "text/html": [
       "<table>\n",
       "<thead><tr><th></th><th scope=col>Sepal.Length</th><th scope=col>Sepal.Width</th><th scope=col>Petal.Length</th><th scope=col>Petal.Width</th><th scope=col>Species</th></tr></thead>\n",
       "<tbody>\n",
       "\t<tr><th scope=row>1</th><td>5.1</td><td>3.5</td><td>1.4</td><td>0.2</td><td>setosa</td></tr>\n",
       "\t<tr><th scope=row>2</th><td>4.9</td><td>3</td><td>1.4</td><td>0.2</td><td>setosa</td></tr>\n",
       "\t<tr><th scope=row>3</th><td>4.7</td><td>3.2</td><td>1.3</td><td>0.2</td><td>setosa</td></tr>\n",
       "\t<tr><th scope=row>4</th><td>4.6</td><td>3.1</td><td>1.5</td><td>0.2</td><td>setosa</td></tr>\n",
       "\t<tr><th scope=row>5</th><td>5</td><td>3.6</td><td>1.4</td><td>0.2</td><td>setosa</td></tr>\n",
       "\t<tr><th scope=row>6</th><td>5.4</td><td>3.9</td><td>1.7</td><td>0.4</td><td>setosa</td></tr>\n",
       "</tbody>\n",
       "</table>\n"
      ],
      "text/latex": [
       "\\begin{tabular}{r|lllll}\n",
       "  & Sepal.Length & Sepal.Width & Petal.Length & Petal.Width & Species\\\\\n",
       "\\hline\n",
       "\t1 & 5.1 & 3.5 & 1.4 & 0.2 & setosa\\\\\n",
       "\t2 & 4.9 & 3 & 1.4 & 0.2 & setosa\\\\\n",
       "\t3 & 4.7 & 3.2 & 1.3 & 0.2 & setosa\\\\\n",
       "\t4 & 4.6 & 3.1 & 1.5 & 0.2 & setosa\\\\\n",
       "\t5 & 5 & 3.6 & 1.4 & 0.2 & setosa\\\\\n",
       "\t6 & 5.4 & 3.9 & 1.7 & 0.4 & setosa\\\\\n",
       "\\end{tabular}\n"
      ],
      "text/plain": [
       "  Sepal.Length Sepal.Width Petal.Length Petal.Width Species\n",
       "1          5.1         3.5          1.4         0.2  setosa\n",
       "2          4.9         3.0          1.4         0.2  setosa\n",
       "3          4.7         3.2          1.3         0.2  setosa\n",
       "4          4.6         3.1          1.5         0.2  setosa\n",
       "5          5.0         3.6          1.4         0.2  setosa\n",
       "6          5.4         3.9          1.7         0.4  setosa"
      ]
     },
     "execution_count": 45,
     "metadata": {},
     "output_type": "execute_result"
    }
   ],
   "source": [
    "# ?iris\n",
    "head(iris)"
   ]
  },
  {
   "cell_type": "markdown",
   "metadata": {},
   "source": [
    "<h3>Q2</h3>\n",
    "There will be an object called 'iris' in your workspace. In this dataset, what is the mean of 'Sepal.Length' for the species virginica?"
   ]
  },
  {
   "cell_type": "code",
   "execution_count": 46,
   "metadata": {
    "collapsed": false
   },
   "outputs": [
    {
     "data": {
      "text/html": [
       "6.588"
      ],
      "text/latex": [
       "6.588"
      ],
      "text/markdown": [
       "6.588"
      ],
      "text/plain": [
       "[1] 6.588"
      ]
     },
     "execution_count": 46,
     "metadata": {},
     "output_type": "execute_result"
    }
   ],
   "source": [
    "mean(iris[iris$Species==\"virginica\",]$Sepal.Length)"
   ]
  },
  {
   "cell_type": "code",
   "execution_count": 9,
   "metadata": {
    "collapsed": false
   },
   "outputs": [
    {
     "data": {
      "text/html": [
       "<ol class=list-inline>\n",
       "\t<li>'Sepal.Length'</li>\n",
       "\t<li>'Sepal.Width'</li>\n",
       "\t<li>'Petal.Length'</li>\n",
       "\t<li>'Petal.Width'</li>\n",
       "\t<li>'Species'</li>\n",
       "</ol>\n"
      ],
      "text/latex": [
       "\\begin{enumerate*}\n",
       "\\item 'Sepal.Length'\n",
       "\\item 'Sepal.Width'\n",
       "\\item 'Petal.Length'\n",
       "\\item 'Petal.Width'\n",
       "\\item 'Species'\n",
       "\\end{enumerate*}\n"
      ],
      "text/markdown": [
       "1. 'Sepal.Length'\n",
       "2. 'Sepal.Width'\n",
       "3. 'Petal.Length'\n",
       "4. 'Petal.Width'\n",
       "5. 'Species'\n",
       "\n",
       "\n"
      ],
      "text/plain": [
       "[1] \"Sepal.Length\" \"Sepal.Width\"  \"Petal.Length\" \"Petal.Width\"  \"Species\"     "
      ]
     },
     "execution_count": 9,
     "metadata": {},
     "output_type": "execute_result"
    }
   ],
   "source": [
    "colnames(iris)"
   ]
  },
  {
   "cell_type": "code",
   "execution_count": 12,
   "metadata": {
    "collapsed": false
   },
   "outputs": [
    {
     "data": {
      "text/html": [
       "<dl class=dl-horizontal>\n",
       "\t<dt>Sepal.Length</dt>\n",
       "\t\t<dd>5.84333333333333</dd>\n",
       "\t<dt>Sepal.Width</dt>\n",
       "\t\t<dd>3.05733333333333</dd>\n",
       "\t<dt>Petal.Length</dt>\n",
       "\t\t<dd>3.758</dd>\n",
       "\t<dt>Petal.Width</dt>\n",
       "\t\t<dd>1.19933333333333</dd>\n",
       "</dl>\n"
      ],
      "text/latex": [
       "\\begin{description*}\n",
       "\\item[Sepal.Length] 5.84333333333333\n",
       "\\item[Sepal.Width] 3.05733333333333\n",
       "\\item[Petal.Length] 3.758\n",
       "\\item[Petal.Width] 1.19933333333333\n",
       "\\end{description*}\n"
      ],
      "text/markdown": [
       "Sepal.Length\n",
       ":   5.84333333333333Sepal.Width\n",
       ":   3.05733333333333Petal.Length\n",
       ":   3.758Petal.Width\n",
       ":   1.19933333333333\n",
       "\n"
      ],
      "text/plain": [
       "Sepal.Length  Sepal.Width Petal.Length  Petal.Width \n",
       "    5.843333     3.057333     3.758000     1.199333 "
      ]
     },
     "execution_count": 12,
     "metadata": {},
     "output_type": "execute_result"
    }
   ],
   "source": [
    "apply(iris[, 1:4], 2, mean)"
   ]
  },
  {
   "cell_type": "code",
   "execution_count": 13,
   "metadata": {
    "collapsed": false
   },
   "outputs": [
    {
     "data": {
      "text/html": [
       "\n",
       "<table width=\"100%\" summary=\"page for apply {base}\"><tr><td>apply {base}</td><td style=\"text-align: right;\">R Documentation</td></tr></table>\n",
       "\n",
       "<h2>Apply Functions Over Array Margins</h2>\n",
       "\n",
       "<h3>Description</h3>\n",
       "\n",
       "<p>Returns a vector or array or list of values obtained by applying a\n",
       "function to margins of an array or matrix.\n",
       "</p>\n",
       "\n",
       "\n",
       "<h3>Usage</h3>\n",
       "\n",
       "<pre>\n",
       "apply(X, MARGIN, FUN, ...)\n",
       "</pre>\n",
       "\n",
       "\n",
       "<h3>Arguments</h3>\n",
       "\n",
       "<table summary=\"R argblock\">\n",
       "<tr valign=\"top\"><td><code>X</code></td>\n",
       "<td>\n",
       "<p>an array, including a matrix.</p>\n",
       "</td></tr>\n",
       "<tr valign=\"top\"><td><code>MARGIN</code></td>\n",
       "<td>\n",
       "<p>a vector giving the subscripts which the function will\n",
       "be applied over.  E.g., for a matrix <code>1</code> indicates rows,\n",
       "<code>2</code> indicates columns, <code>c(1, 2)</code> indicates rows and\n",
       "columns. Where <code>X</code> has named dimnames, it can be a character\n",
       "vector selecting dimension names.</p>\n",
       "</td></tr>\n",
       "<tr valign=\"top\"><td><code>FUN</code></td>\n",
       "<td>\n",
       "<p>the function to be applied: see &lsquo;Details&rsquo;.\n",
       "In the case of functions like <code>+</code>, <code>%*%</code>, etc., the\n",
       "function name must be backquoted or quoted.</p>\n",
       "</td></tr>\n",
       "<tr valign=\"top\"><td><code>...</code></td>\n",
       "<td>\n",
       "<p>optional arguments to <code>FUN</code>.</p>\n",
       "</td></tr>\n",
       "</table>\n",
       "\n",
       "\n",
       "<h3>Details</h3>\n",
       "\n",
       "<p>If <code>X</code> is not an array but an object of a class with a non-null\n",
       "<code>dim</code> value (such as a data frame), <code>apply</code> attempts\n",
       "to coerce it to an array via <code>as.matrix</code> if it is two-dimensional\n",
       "(e.g., a data frame) or via <code>as.array</code>.\n",
       "</p>\n",
       "<p><code>FUN</code> is found by a call to <code>match.fun</code> and typically\n",
       "is either a function or a symbol (e.g., a backquoted name) or a\n",
       "character string specifying a function to be searched for from the\n",
       "environment of the call to <code>apply</code>.\n",
       "</p>\n",
       "<p>Arguments in <code>...</code> cannot have the same name as any of the\n",
       "other arguments, and care may be needed to avoid partial matching to\n",
       "<code>MARGIN</code> or <code>FUN</code>.  In general-purpose code it is good\n",
       "practice to name the first three arguments if <code>...</code> is passed\n",
       "through: this both avoids partial matching to <code>MARGIN</code>\n",
       "or <code>FUN</code> and ensures that a sensible error message is given if\n",
       "arguments named <code>X</code>, <code>MARGIN</code> or <code>FUN</code> are passed\n",
       "through <code>...</code>.\n",
       "</p>\n",
       "\n",
       "\n",
       "<h3>Value</h3>\n",
       "\n",
       "<p>If each call to <code>FUN</code> returns a vector of length <code>n</code>, then\n",
       "<code>apply</code> returns an array of dimension <code>c(n, dim(X)[MARGIN])</code>\n",
       "if <code>n &gt; 1</code>.  If <code>n</code> equals <code>1</code>, <code>apply</code> returns a\n",
       "vector if <code>MARGIN</code> has length 1 and an array of dimension\n",
       "<code>dim(X)[MARGIN]</code> otherwise.\n",
       "If <code>n</code> is <code>0</code>, the result has length 0 but not necessarily\n",
       "the &lsquo;correct&rsquo; dimension.\n",
       "</p>\n",
       "<p>If the calls to <code>FUN</code> return vectors of different lengths,\n",
       "<code>apply</code> returns a list of length <code>prod(dim(X)[MARGIN])</code> with\n",
       "<code>dim</code> set to <code>MARGIN</code> if this has length greater than one.\n",
       "</p>\n",
       "<p>In all cases the result is coerced by <code>as.vector</code> to one\n",
       "of the basic vector types before the dimensions are set, so that (for\n",
       "example) factor results will be coerced to a character array.\n",
       "</p>\n",
       "\n",
       "\n",
       "<h3>References</h3>\n",
       "\n",
       "<p>Becker, R. A., Chambers, J. M. and Wilks, A. R. (1988)\n",
       "<em>The New S Language</em>.\n",
       "Wadsworth &amp; Brooks/Cole.\n",
       "</p>\n",
       "\n",
       "\n",
       "<h3>See Also</h3>\n",
       "\n",
       "<p><code>lapply</code> and there, <code>simplify2array</code>;\n",
       "<code>tapply</code>, and convenience functions\n",
       "<code>sweep</code> and <code>aggregate</code>.\n",
       "</p>\n",
       "\n",
       "\n",
       "<h3>Examples</h3>\n",
       "\n",
       "<pre>\n",
       "## Compute row and column sums for a matrix:\n",
       "x &lt;- cbind(x1 = 3, x2 = c(4:1, 2:5))\n",
       "dimnames(x)[[1]] &lt;- letters[1:8]\n",
       "apply(x, 2, mean, trim = .2)\n",
       "col.sums &lt;- apply(x, 2, sum)\n",
       "row.sums &lt;- apply(x, 1, sum)\n",
       "rbind(cbind(x, Rtot = row.sums), Ctot = c(col.sums, sum(col.sums)))\n",
       "\n",
       "stopifnot( apply(x, 2, is.vector))\n",
       "\n",
       "## Sort the columns of a matrix\n",
       "apply(x, 2, sort)\n",
       "\n",
       "## keeping named dimnames\n",
       "names(dimnames(x)) &lt;- c(\"row\", \"col\")\n",
       "x3 &lt;- array(x, dim = c(dim(x),3),\n",
       "\t    dimnames = c(dimnames(x), list(C = paste0(\"cop.\",1:3))))\n",
       "identical(x,  apply( x,  2,  identity))\n",
       "identical(x3, apply(x3, 2:3, identity))\n",
       "\n",
       "##- function with extra args:\n",
       "cave &lt;- function(x, c1, c2) c(mean(x[c1]), mean(x[c2]))\n",
       "apply(x, 1, cave,  c1 = \"x1\", c2 = c(\"x1\",\"x2\"))\n",
       "\n",
       "ma &lt;- matrix(c(1:4, 1, 6:8), nrow = 2)\n",
       "ma\n",
       "apply(ma, 1, table)  #--&gt; a list of length 2\n",
       "apply(ma, 1, stats::quantile) # 5 x n matrix with rownames\n",
       "\n",
       "stopifnot(dim(ma) == dim(apply(ma, 1:2, sum)))\n",
       "\n",
       "## Example with different lengths for each call\n",
       "z &lt;- array(1:24, dim = 2:4)\n",
       "zseq &lt;- apply(z, 1:2, function(x) seq_len(max(x)))\n",
       "zseq         ## a 2 x 3 matrix\n",
       "typeof(zseq) ## list\n",
       "dim(zseq) ## 2 3\n",
       "zseq[1,]\n",
       "apply(z, 3, function(x) seq_len(max(x)))\n",
       "# a list without a dim attribute\n",
       "</pre>\n",
       "\n",
       "<hr /><div style=\"text-align: center;\">[Package <em>base</em> version 3.2.2 ]</div>"
      ],
      "text/latex": [
       "\\inputencoding{utf8}\n",
       "\\HeaderA{apply}{Apply Functions Over Array Margins}{apply}\n",
       "\\keyword{iteration}{apply}\n",
       "\\keyword{array}{apply}\n",
       "%\n",
       "\\begin{Description}\\relax\n",
       "Returns a vector or array or list of values obtained by applying a\n",
       "function to margins of an array or matrix.\n",
       "\\end{Description}\n",
       "%\n",
       "\\begin{Usage}\n",
       "\\begin{verbatim}\n",
       "apply(X, MARGIN, FUN, ...)\n",
       "\\end{verbatim}\n",
       "\\end{Usage}\n",
       "%\n",
       "\\begin{Arguments}\n",
       "\\begin{ldescription}\n",
       "\\item[\\code{X}] an array, including a matrix.\n",
       "\\item[\\code{MARGIN}] a vector giving the subscripts which the function will\n",
       "be applied over.  E.g., for a matrix \\code{1} indicates rows,\n",
       "\\code{2} indicates columns, \\code{c(1, 2)} indicates rows and\n",
       "columns. Where \\code{X} has named dimnames, it can be a character\n",
       "vector selecting dimension names.\n",
       "\\item[\\code{FUN}] the function to be applied: see `Details'.\n",
       "In the case of functions like \\code{+}, \\code{\\%*\\%}, etc., the\n",
       "function name must be backquoted or quoted.\n",
       "\\item[\\code{...}] optional arguments to \\code{FUN}.\n",
       "\\end{ldescription}\n",
       "\\end{Arguments}\n",
       "%\n",
       "\\begin{Details}\\relax\n",
       "If \\code{X} is not an array but an object of a class with a non-null\n",
       "\\code{\\LinkA{dim}{dim}} value (such as a data frame), \\code{apply} attempts\n",
       "to coerce it to an array via \\code{as.matrix} if it is two-dimensional\n",
       "(e.g., a data frame) or via \\code{as.array}.\n",
       "\n",
       "\\code{FUN} is found by a call to \\code{\\LinkA{match.fun}{match.fun}} and typically\n",
       "is either a function or a symbol (e.g., a backquoted name) or a\n",
       "character string specifying a function to be searched for from the\n",
       "environment of the call to \\code{apply}.\n",
       "\n",
       "Arguments in \\code{...} cannot have the same name as any of the\n",
       "other arguments, and care may be needed to avoid partial matching to\n",
       "\\code{MARGIN} or \\code{FUN}.  In general-purpose code it is good\n",
       "practice to name the first three arguments if \\code{...} is passed\n",
       "through: this both avoids partial matching to \\code{MARGIN}\n",
       "or \\code{FUN} and ensures that a sensible error message is given if\n",
       "arguments named \\code{X}, \\code{MARGIN} or \\code{FUN} are passed\n",
       "through \\code{...}.\n",
       "\\end{Details}\n",
       "%\n",
       "\\begin{Value}\n",
       "If each call to \\code{FUN} returns a vector of length \\code{n}, then\n",
       "\\code{apply} returns an array of dimension \\code{c(n, dim(X)[MARGIN])}\n",
       "if \\code{n > 1}.  If \\code{n} equals \\code{1}, \\code{apply} returns a\n",
       "vector if \\code{MARGIN} has length 1 and an array of dimension\n",
       "\\code{dim(X)[MARGIN]} otherwise.\n",
       "If \\code{n} is \\code{0}, the result has length 0 but not necessarily\n",
       "the `correct' dimension.\n",
       "\n",
       "If the calls to \\code{FUN} return vectors of different lengths,\n",
       "\\code{apply} returns a list of length \\code{prod(dim(X)[MARGIN])} with\n",
       "\\code{dim} set to \\code{MARGIN} if this has length greater than one.\n",
       "\n",
       "In all cases the result is coerced by \\code{\\LinkA{as.vector}{as.vector}} to one\n",
       "of the basic vector types before the dimensions are set, so that (for\n",
       "example) factor results will be coerced to a character array.\n",
       "\\end{Value}\n",
       "%\n",
       "\\begin{References}\\relax\n",
       "Becker, R. A., Chambers, J. M. and Wilks, A. R. (1988)\n",
       "\\emph{The New S Language}.\n",
       "Wadsworth \\& Brooks/Cole.\n",
       "\\end{References}\n",
       "%\n",
       "\\begin{SeeAlso}\\relax\n",
       "\\code{\\LinkA{lapply}{lapply}} and there, \\code{\\LinkA{simplify2array}{simplify2array}};\n",
       "\\code{\\LinkA{tapply}{tapply}}, and convenience functions\n",
       "\\code{\\LinkA{sweep}{sweep}} and \\code{\\LinkA{aggregate}{aggregate}}.\n",
       "\\end{SeeAlso}\n",
       "%\n",
       "\\begin{Examples}\n",
       "\\begin{ExampleCode}\n",
       "## Compute row and column sums for a matrix:\n",
       "x <- cbind(x1 = 3, x2 = c(4:1, 2:5))\n",
       "dimnames(x)[[1]] <- letters[1:8]\n",
       "apply(x, 2, mean, trim = .2)\n",
       "col.sums <- apply(x, 2, sum)\n",
       "row.sums <- apply(x, 1, sum)\n",
       "rbind(cbind(x, Rtot = row.sums), Ctot = c(col.sums, sum(col.sums)))\n",
       "\n",
       "stopifnot( apply(x, 2, is.vector))\n",
       "\n",
       "## Sort the columns of a matrix\n",
       "apply(x, 2, sort)\n",
       "\n",
       "## keeping named dimnames\n",
       "names(dimnames(x)) <- c(\"row\", \"col\")\n",
       "x3 <- array(x, dim = c(dim(x),3),\n",
       "\t    dimnames = c(dimnames(x), list(C = paste0(\"cop.\",1:3))))\n",
       "identical(x,  apply( x,  2,  identity))\n",
       "identical(x3, apply(x3, 2:3, identity))\n",
       "\n",
       "##- function with extra args:\n",
       "cave <- function(x, c1, c2) c(mean(x[c1]), mean(x[c2]))\n",
       "apply(x, 1, cave,  c1 = \"x1\", c2 = c(\"x1\",\"x2\"))\n",
       "\n",
       "ma <- matrix(c(1:4, 1, 6:8), nrow = 2)\n",
       "ma\n",
       "apply(ma, 1, table)  #--> a list of length 2\n",
       "apply(ma, 1, stats::quantile) # 5 x n matrix with rownames\n",
       "\n",
       "stopifnot(dim(ma) == dim(apply(ma, 1:2, sum)))\n",
       "\n",
       "## Example with different lengths for each call\n",
       "z <- array(1:24, dim = 2:4)\n",
       "zseq <- apply(z, 1:2, function(x) seq_len(max(x)))\n",
       "zseq         ## a 2 x 3 matrix\n",
       "typeof(zseq) ## list\n",
       "dim(zseq) ## 2 3\n",
       "zseq[1,]\n",
       "apply(z, 3, function(x) seq_len(max(x)))\n",
       "# a list without a dim attribute\n",
       "\\end{ExampleCode}\n",
       "\\end{Examples}"
      ],
      "text/plain": [
       "apply                   package:base                   R Documentation\n",
       "\n",
       "_\bA_\bp_\bp_\bl_\by _\bF_\bu_\bn_\bc_\bt_\bi_\bo_\bn_\bs _\bO_\bv_\be_\br _\bA_\br_\br_\ba_\by _\bM_\ba_\br_\bg_\bi_\bn_\bs\n",
       "\n",
       "_\bD_\be_\bs_\bc_\br_\bi_\bp_\bt_\bi_\bo_\bn:\n",
       "\n",
       "     Returns a vector or array or list of values obtained by applying a\n",
       "     function to margins of an array or matrix.\n",
       "\n",
       "_\bU_\bs_\ba_\bg_\be:\n",
       "\n",
       "     apply(X, MARGIN, FUN, ...)\n",
       "     \n",
       "_\bA_\br_\bg_\bu_\bm_\be_\bn_\bt_\bs:\n",
       "\n",
       "       X: an array, including a matrix.\n",
       "\n",
       "  MARGIN: a vector giving the subscripts which the function will be\n",
       "          applied over.  E.g., for a matrix ‘1’ indicates rows, ‘2’\n",
       "          indicates columns, ‘c(1, 2)’ indicates rows and columns.\n",
       "          Where ‘X’ has named dimnames, it can be a character vector\n",
       "          selecting dimension names.\n",
       "\n",
       "     FUN: the function to be applied: see ‘Details’.  In the case of\n",
       "          functions like ‘+’, ‘%*%’, etc., the function name must be\n",
       "          backquoted or quoted.\n",
       "\n",
       "     ...: optional arguments to ‘FUN’.\n",
       "\n",
       "_\bD_\be_\bt_\ba_\bi_\bl_\bs:\n",
       "\n",
       "     If ‘X’ is not an array but an object of a class with a non-null\n",
       "     ‘dim’ value (such as a data frame), ‘apply’ attempts to coerce it\n",
       "     to an array via ‘as.matrix’ if it is two-dimensional (e.g., a data\n",
       "     frame) or via ‘as.array’.\n",
       "\n",
       "     ‘FUN’ is found by a call to ‘match.fun’ and typically is either a\n",
       "     function or a symbol (e.g., a backquoted name) or a character\n",
       "     string specifying a function to be searched for from the\n",
       "     environment of the call to ‘apply’.\n",
       "\n",
       "     Arguments in ‘...’ cannot have the same name as any of the other\n",
       "     arguments, and care may be needed to avoid partial matching to\n",
       "     ‘MARGIN’ or ‘FUN’.  In general-purpose code it is good practice to\n",
       "     name the first three arguments if ‘...’ is passed through: this\n",
       "     both avoids partial matching to ‘MARGIN’ or ‘FUN’ and ensures that\n",
       "     a sensible error message is given if arguments named ‘X’, ‘MARGIN’\n",
       "     or ‘FUN’ are passed through ‘...’.\n",
       "\n",
       "_\bV_\ba_\bl_\bu_\be:\n",
       "\n",
       "     If each call to ‘FUN’ returns a vector of length ‘n’, then ‘apply’\n",
       "     returns an array of dimension ‘c(n, dim(X)[MARGIN])’ if ‘n > 1’.\n",
       "     If ‘n’ equals ‘1’, ‘apply’ returns a vector if ‘MARGIN’ has length\n",
       "     1 and an array of dimension ‘dim(X)[MARGIN]’ otherwise.  If ‘n’ is\n",
       "     ‘0’, the result has length 0 but not necessarily the ‘correct’\n",
       "     dimension.\n",
       "\n",
       "     If the calls to ‘FUN’ return vectors of different lengths, ‘apply’\n",
       "     returns a list of length ‘prod(dim(X)[MARGIN])’ with ‘dim’ set to\n",
       "     ‘MARGIN’ if this has length greater than one.\n",
       "\n",
       "     In all cases the result is coerced by ‘as.vector’ to one of the\n",
       "     basic vector types before the dimensions are set, so that (for\n",
       "     example) factor results will be coerced to a character array.\n",
       "\n",
       "_\bR_\be_\bf_\be_\br_\be_\bn_\bc_\be_\bs:\n",
       "\n",
       "     Becker, R. A., Chambers, J. M. and Wilks, A. R. (1988) _The New S\n",
       "     Language_.  Wadsworth & Brooks/Cole.\n",
       "\n",
       "_\bS_\be_\be _\bA_\bl_\bs_\bo:\n",
       "\n",
       "     ‘lapply’ and there, ‘simplify2array’; ‘tapply’, and convenience\n",
       "     functions ‘sweep’ and ‘aggregate’.\n",
       "\n",
       "_\bE_\bx_\ba_\bm_\bp_\bl_\be_\bs:\n",
       "\n",
       "     ## Compute row and column sums for a matrix:\n",
       "     x <- cbind(x1 = 3, x2 = c(4:1, 2:5))\n",
       "     dimnames(x)[[1]] <- letters[1:8]\n",
       "     apply(x, 2, mean, trim = .2)\n",
       "     col.sums <- apply(x, 2, sum)\n",
       "     row.sums <- apply(x, 1, sum)\n",
       "     rbind(cbind(x, Rtot = row.sums), Ctot = c(col.sums, sum(col.sums)))\n",
       "     \n",
       "     stopifnot( apply(x, 2, is.vector))\n",
       "     \n",
       "     ## Sort the columns of a matrix\n",
       "     apply(x, 2, sort)\n",
       "     \n",
       "     ## keeping named dimnames\n",
       "     names(dimnames(x)) <- c(\"row\", \"col\")\n",
       "     x3 <- array(x, dim = c(dim(x),3),\n",
       "                 dimnames = c(dimnames(x), list(C = paste0(\"cop.\",1:3))))\n",
       "     identical(x,  apply( x,  2,  identity))\n",
       "     identical(x3, apply(x3, 2:3, identity))\n",
       "     \n",
       "     ##- function with extra args:\n",
       "     cave <- function(x, c1, c2) c(mean(x[c1]), mean(x[c2]))\n",
       "     apply(x, 1, cave,  c1 = \"x1\", c2 = c(\"x1\",\"x2\"))\n",
       "     \n",
       "     ma <- matrix(c(1:4, 1, 6:8), nrow = 2)\n",
       "     ma\n",
       "     apply(ma, 1, table)  #--> a list of length 2\n",
       "     apply(ma, 1, stats::quantile) # 5 x n matrix with rownames\n",
       "     \n",
       "     stopifnot(dim(ma) == dim(apply(ma, 1:2, sum)))\n",
       "     \n",
       "     ## Example with different lengths for each call\n",
       "     z <- array(1:24, dim = 2:4)\n",
       "     zseq <- apply(z, 1:2, function(x) seq_len(max(x)))\n",
       "     zseq         ## a 2 x 3 matrix\n",
       "     typeof(zseq) ## list\n",
       "     dim(zseq) ## 2 3\n",
       "     zseq[1,]\n",
       "     apply(z, 3, function(x) seq_len(max(x)))\n",
       "     # a list without a dim attribute\n",
       "     "
      ]
     },
     "execution_count": 13,
     "metadata": {},
     "output_type": "execute_result"
    }
   ],
   "source": [
    "?apply"
   ]
  },
  {
   "cell_type": "code",
   "execution_count": 14,
   "metadata": {
    "collapsed": false
   },
   "outputs": [
    {
     "data": {
      "text/html": [
       "\n",
       "<table width=\"100%\" summary=\"page for mtcars {datasets}\"><tr><td>mtcars {datasets}</td><td style=\"text-align: right;\">R Documentation</td></tr></table>\n",
       "\n",
       "<h2>Motor Trend Car Road Tests</h2>\n",
       "\n",
       "<h3>Description</h3>\n",
       "\n",
       "<p>The data was extracted from the 1974 <em>Motor Trend</em> US magazine,\n",
       "and comprises fuel consumption and 10 aspects of\n",
       "automobile design and performance for 32 automobiles (1973&ndash;74\n",
       "models).\n",
       "</p>\n",
       "\n",
       "\n",
       "<h3>Usage</h3>\n",
       "\n",
       "<pre>mtcars</pre>\n",
       "\n",
       "\n",
       "<h3>Format</h3>\n",
       "\n",
       "<p>A data frame with 32 observations on 11 variables.\n",
       "</p>\n",
       "\n",
       "<table summary=\"Rd table\">\n",
       "<tr>\n",
       " <td style=\"text-align: right;\">\n",
       "    [, 1] </td><td style=\"text-align: left;\"> mpg  </td><td style=\"text-align: left;\"> Miles/(US) gallon </td>\n",
       "</tr>\n",
       "<tr>\n",
       " <td style=\"text-align: right;\">\n",
       "    [, 2] </td><td style=\"text-align: left;\"> cyl  </td><td style=\"text-align: left;\"> Number of cylinders </td>\n",
       "</tr>\n",
       "<tr>\n",
       " <td style=\"text-align: right;\">\n",
       "    [, 3] </td><td style=\"text-align: left;\"> disp </td><td style=\"text-align: left;\"> Displacement (cu.in.) </td>\n",
       "</tr>\n",
       "<tr>\n",
       " <td style=\"text-align: right;\">\n",
       "    [, 4] </td><td style=\"text-align: left;\"> hp   </td><td style=\"text-align: left;\"> Gross horsepower </td>\n",
       "</tr>\n",
       "<tr>\n",
       " <td style=\"text-align: right;\">\n",
       "    [, 5] </td><td style=\"text-align: left;\"> drat </td><td style=\"text-align: left;\"> Rear axle ratio </td>\n",
       "</tr>\n",
       "<tr>\n",
       " <td style=\"text-align: right;\">\n",
       "    [, 6] </td><td style=\"text-align: left;\"> wt   </td><td style=\"text-align: left;\"> Weight (lb/1000) </td>\n",
       "</tr>\n",
       "<tr>\n",
       " <td style=\"text-align: right;\">\n",
       "    [, 7] </td><td style=\"text-align: left;\"> qsec </td><td style=\"text-align: left;\"> 1/4 mile time </td>\n",
       "</tr>\n",
       "<tr>\n",
       " <td style=\"text-align: right;\">\n",
       "    [, 8] </td><td style=\"text-align: left;\"> vs   </td><td style=\"text-align: left;\"> V/S </td>\n",
       "</tr>\n",
       "<tr>\n",
       " <td style=\"text-align: right;\">\n",
       "    [, 9] </td><td style=\"text-align: left;\"> am   </td><td style=\"text-align: left;\"> Transmission (0 = automatic, 1 = manual) </td>\n",
       "</tr>\n",
       "<tr>\n",
       " <td style=\"text-align: right;\">\n",
       "    [,10] </td><td style=\"text-align: left;\"> gear </td><td style=\"text-align: left;\"> Number of forward gears </td>\n",
       "</tr>\n",
       "<tr>\n",
       " <td style=\"text-align: right;\">\n",
       "    [,11] </td><td style=\"text-align: left;\"> carb </td><td style=\"text-align: left;\"> Number of carburetors\n",
       "  </td>\n",
       "</tr>\n",
       "\n",
       "</table>\n",
       "\n",
       "\n",
       "\n",
       "<h3>Source</h3>\n",
       "\n",
       "<p>Henderson and Velleman (1981),\n",
       "Building multiple regression models interactively.\n",
       "<em>Biometrics</em>, <b>37</b>, 391&ndash;411.\n",
       "</p>\n",
       "\n",
       "\n",
       "<h3>Examples</h3>\n",
       "\n",
       "<pre>\n",
       "require(graphics)\n",
       "pairs(mtcars, main = \"mtcars data\")\n",
       "coplot(mpg ~ disp | as.factor(cyl), data = mtcars,\n",
       "       panel = panel.smooth, rows = 1)\n",
       "</pre>\n",
       "\n",
       "<hr /><div style=\"text-align: center;\">[Package <em>datasets</em> version 3.2.2 ]</div>"
      ],
      "text/latex": [
       "\\inputencoding{utf8}\n",
       "\\HeaderA{mtcars}{Motor Trend Car Road Tests}{mtcars}\n",
       "\\keyword{datasets}{mtcars}\n",
       "%\n",
       "\\begin{Description}\\relax\n",
       "The data was extracted from the 1974 \\emph{Motor Trend} US magazine,\n",
       "and comprises fuel consumption and 10 aspects of\n",
       "automobile design and performance for 32 automobiles (1973--74\n",
       "models).\n",
       "\\end{Description}\n",
       "%\n",
       "\\begin{Usage}\n",
       "\\begin{verbatim}\n",
       "mtcars\n",
       "\\end{verbatim}\n",
       "\\end{Usage}\n",
       "%\n",
       "\\begin{Format}\n",
       "A data frame with 32 observations on 11 variables.\n",
       "\n",
       "\\Tabular{rll}{\n",
       "[, 1] & mpg  & Miles/(US) gallon \\\\{}\n",
       "[, 2] & cyl  & Number of cylinders \\\\{}\n",
       "[, 3] & disp & Displacement (cu.in.) \\\\{}\n",
       "[, 4] & hp   & Gross horsepower \\\\{}\n",
       "[, 5] & drat & Rear axle ratio \\\\{}\n",
       "[, 6] & wt   & Weight (lb/1000) \\\\{}\n",
       "[, 7] & qsec & 1/4 mile time \\\\{}\n",
       "[, 8] & vs   & V/S \\\\{}\n",
       "[, 9] & am   & Transmission (0 = automatic, 1 = manual) \\\\{}\n",
       "[,10] & gear & Number of forward gears \\\\{}\n",
       "[,11] & carb & Number of carburetors\n",
       "}\n",
       "\\end{Format}\n",
       "%\n",
       "\\begin{Source}\\relax\n",
       "Henderson and Velleman (1981),\n",
       "Building multiple regression models interactively.\n",
       "\\emph{Biometrics}, \\bold{37}, 391--411.\n",
       "\\end{Source}\n",
       "%\n",
       "\\begin{Examples}\n",
       "\\begin{ExampleCode}\n",
       "require(graphics)\n",
       "pairs(mtcars, main = \"mtcars data\")\n",
       "coplot(mpg ~ disp | as.factor(cyl), data = mtcars,\n",
       "       panel = panel.smooth, rows = 1)\n",
       "\\end{ExampleCode}\n",
       "\\end{Examples}"
      ],
      "text/plain": [
       "mtcars                package:datasets                 R Documentation\n",
       "\n",
       "_\bM_\bo_\bt_\bo_\br _\bT_\br_\be_\bn_\bd _\bC_\ba_\br _\bR_\bo_\ba_\bd _\bT_\be_\bs_\bt_\bs\n",
       "\n",
       "_\bD_\be_\bs_\bc_\br_\bi_\bp_\bt_\bi_\bo_\bn:\n",
       "\n",
       "     The data was extracted from the 1974 _Motor Trend_ US magazine,\n",
       "     and comprises fuel consumption and 10 aspects of automobile design\n",
       "     and performance for 32 automobiles (1973-74 models).\n",
       "\n",
       "_\bU_\bs_\ba_\bg_\be:\n",
       "\n",
       "     mtcars\n",
       "     \n",
       "_\bF_\bo_\br_\bm_\ba_\bt:\n",
       "\n",
       "     A data frame with 32 observations on 11 variables.\n",
       "\n",
       "       [, 1]  mpg   Miles/(US) gallon                        \n",
       "       [, 2]  cyl   Number of cylinders                      \n",
       "       [, 3]  disp  Displacement (cu.in.)                    \n",
       "       [, 4]  hp    Gross horsepower                         \n",
       "       [, 5]  drat  Rear axle ratio                          \n",
       "       [, 6]  wt    Weight (lb/1000)                         \n",
       "       [, 7]  qsec  1/4 mile time                            \n",
       "       [, 8]  vs    V/S                                      \n",
       "       [, 9]  am    Transmission (0 = automatic, 1 = manual) \n",
       "       [,10]  gear  Number of forward gears                  \n",
       "       [,11]  carb  Number of carburetors                    \n",
       "      \n",
       "_\bS_\bo_\bu_\br_\bc_\be:\n",
       "\n",
       "     Henderson and Velleman (1981), Building multiple regression models\n",
       "     interactively.  _Biometrics_, *37*, 391-411.\n",
       "\n",
       "_\bE_\bx_\ba_\bm_\bp_\bl_\be_\bs:\n",
       "\n",
       "     require(graphics)\n",
       "     pairs(mtcars, main = \"mtcars data\")\n",
       "     coplot(mpg ~ disp | as.factor(cyl), data = mtcars,\n",
       "            panel = panel.smooth, rows = 1)\n",
       "     "
      ]
     },
     "execution_count": 14,
     "metadata": {},
     "output_type": "execute_result"
    }
   ],
   "source": [
    "library(datasets)\n",
    "data(mtcars)\n",
    "?mtcars"
   ]
  },
  {
   "cell_type": "code",
   "execution_count": 15,
   "metadata": {
    "collapsed": false
   },
   "outputs": [
    {
     "data": {
      "text/html": [
       "<table>\n",
       "<thead><tr><th></th><th scope=col>mpg</th><th scope=col>cyl</th><th scope=col>disp</th><th scope=col>hp</th><th scope=col>drat</th><th scope=col>wt</th><th scope=col>qsec</th><th scope=col>vs</th><th scope=col>am</th><th scope=col>gear</th><th scope=col>carb</th></tr></thead>\n",
       "<tbody>\n",
       "\t<tr><th scope=row>Mazda RX4</th><td>21</td><td>6</td><td>160</td><td>110</td><td>3.9</td><td>2.62</td><td>16.46</td><td>0</td><td>1</td><td>4</td><td>4</td></tr>\n",
       "\t<tr><th scope=row>Mazda RX4 Wag</th><td>21</td><td>6</td><td>160</td><td>110</td><td>3.9</td><td>2.875</td><td>17.02</td><td>0</td><td>1</td><td>4</td><td>4</td></tr>\n",
       "\t<tr><th scope=row>Datsun 710</th><td>22.8</td><td>4</td><td>108</td><td>93</td><td>3.85</td><td>2.32</td><td>18.61</td><td>1</td><td>1</td><td>4</td><td>1</td></tr>\n",
       "\t<tr><th scope=row>Hornet 4 Drive</th><td>21.4</td><td>6</td><td>258</td><td>110</td><td>3.08</td><td>3.215</td><td>19.44</td><td>1</td><td>0</td><td>3</td><td>1</td></tr>\n",
       "\t<tr><th scope=row>Hornet Sportabout</th><td>18.7</td><td>8</td><td>360</td><td>175</td><td>3.15</td><td>3.44</td><td>17.02</td><td>0</td><td>0</td><td>3</td><td>2</td></tr>\n",
       "\t<tr><th scope=row>Valiant</th><td>18.1</td><td>6</td><td>225</td><td>105</td><td>2.76</td><td>3.46</td><td>20.22</td><td>1</td><td>0</td><td>3</td><td>1</td></tr>\n",
       "\t<tr><th scope=row>Duster 360</th><td>14.3</td><td>8</td><td>360</td><td>245</td><td>3.21</td><td>3.57</td><td>15.84</td><td>0</td><td>0</td><td>3</td><td>4</td></tr>\n",
       "\t<tr><th scope=row>Merc 240D</th><td>24.4</td><td>4</td><td>146.7</td><td>62</td><td>3.69</td><td>3.19</td><td>20</td><td>1</td><td>0</td><td>4</td><td>2</td></tr>\n",
       "\t<tr><th scope=row>Merc 230</th><td>22.8</td><td>4</td><td>140.8</td><td>95</td><td>3.92</td><td>3.15</td><td>22.9</td><td>1</td><td>0</td><td>4</td><td>2</td></tr>\n",
       "\t<tr><th scope=row>Merc 280</th><td>19.2</td><td>6</td><td>167.6</td><td>123</td><td>3.92</td><td>3.44</td><td>18.3</td><td>1</td><td>0</td><td>4</td><td>4</td></tr>\n",
       "\t<tr><th scope=row>Merc 280C</th><td>17.8</td><td>6</td><td>167.6</td><td>123</td><td>3.92</td><td>3.44</td><td>18.9</td><td>1</td><td>0</td><td>4</td><td>4</td></tr>\n",
       "\t<tr><th scope=row>Merc 450SE</th><td>16.4</td><td>8</td><td>275.8</td><td>180</td><td>3.07</td><td>4.07</td><td>17.4</td><td>0</td><td>0</td><td>3</td><td>3</td></tr>\n",
       "\t<tr><th scope=row>Merc 450SL</th><td>17.3</td><td>8</td><td>275.8</td><td>180</td><td>3.07</td><td>3.73</td><td>17.6</td><td>0</td><td>0</td><td>3</td><td>3</td></tr>\n",
       "\t<tr><th scope=row>Merc 450SLC</th><td>15.2</td><td>8</td><td>275.8</td><td>180</td><td>3.07</td><td>3.78</td><td>18</td><td>0</td><td>0</td><td>3</td><td>3</td></tr>\n",
       "\t<tr><th scope=row>Cadillac Fleetwood</th><td>10.4</td><td>8</td><td>472</td><td>205</td><td>2.93</td><td>5.25</td><td>17.98</td><td>0</td><td>0</td><td>3</td><td>4</td></tr>\n",
       "\t<tr><th scope=row>Lincoln Continental</th><td>10.4</td><td>8</td><td>460</td><td>215</td><td>3</td><td>5.424</td><td>17.82</td><td>0</td><td>0</td><td>3</td><td>4</td></tr>\n",
       "\t<tr><th scope=row>Chrysler Imperial</th><td>14.7</td><td>8</td><td>440</td><td>230</td><td>3.23</td><td>5.345</td><td>17.42</td><td>0</td><td>0</td><td>3</td><td>4</td></tr>\n",
       "\t<tr><th scope=row>Fiat 128</th><td>32.4</td><td>4</td><td>78.7</td><td>66</td><td>4.08</td><td>2.2</td><td>19.47</td><td>1</td><td>1</td><td>4</td><td>1</td></tr>\n",
       "\t<tr><th scope=row>Honda Civic</th><td>30.4</td><td>4</td><td>75.7</td><td>52</td><td>4.93</td><td>1.615</td><td>18.52</td><td>1</td><td>1</td><td>4</td><td>2</td></tr>\n",
       "\t<tr><th scope=row>Toyota Corolla</th><td>33.9</td><td>4</td><td>71.1</td><td>65</td><td>4.22</td><td>1.835</td><td>19.9</td><td>1</td><td>1</td><td>4</td><td>1</td></tr>\n",
       "\t<tr><th scope=row>Toyota Corona</th><td>21.5</td><td>4</td><td>120.1</td><td>97</td><td>3.7</td><td>2.465</td><td>20.01</td><td>1</td><td>0</td><td>3</td><td>1</td></tr>\n",
       "\t<tr><th scope=row>Dodge Challenger</th><td>15.5</td><td>8</td><td>318</td><td>150</td><td>2.76</td><td>3.52</td><td>16.87</td><td>0</td><td>0</td><td>3</td><td>2</td></tr>\n",
       "\t<tr><th scope=row>AMC Javelin</th><td>15.2</td><td>8</td><td>304</td><td>150</td><td>3.15</td><td>3.435</td><td>17.3</td><td>0</td><td>0</td><td>3</td><td>2</td></tr>\n",
       "\t<tr><th scope=row>Camaro Z28</th><td>13.3</td><td>8</td><td>350</td><td>245</td><td>3.73</td><td>3.84</td><td>15.41</td><td>0</td><td>0</td><td>3</td><td>4</td></tr>\n",
       "\t<tr><th scope=row>Pontiac Firebird</th><td>19.2</td><td>8</td><td>400</td><td>175</td><td>3.08</td><td>3.845</td><td>17.05</td><td>0</td><td>0</td><td>3</td><td>2</td></tr>\n",
       "\t<tr><th scope=row>Fiat X1-9</th><td>27.3</td><td>4</td><td>79</td><td>66</td><td>4.08</td><td>1.935</td><td>18.9</td><td>1</td><td>1</td><td>4</td><td>1</td></tr>\n",
       "\t<tr><th scope=row>Porsche 914-2</th><td>26</td><td>4</td><td>120.3</td><td>91</td><td>4.43</td><td>2.14</td><td>16.7</td><td>0</td><td>1</td><td>5</td><td>2</td></tr>\n",
       "\t<tr><th scope=row>Lotus Europa</th><td>30.4</td><td>4</td><td>95.1</td><td>113</td><td>3.77</td><td>1.513</td><td>16.9</td><td>1</td><td>1</td><td>5</td><td>2</td></tr>\n",
       "\t<tr><th scope=row>Ford Pantera L</th><td>15.8</td><td>8</td><td>351</td><td>264</td><td>4.22</td><td>3.17</td><td>14.5</td><td>0</td><td>1</td><td>5</td><td>4</td></tr>\n",
       "\t<tr><th scope=row>Ferrari Dino</th><td>19.7</td><td>6</td><td>145</td><td>175</td><td>3.62</td><td>2.77</td><td>15.5</td><td>0</td><td>1</td><td>5</td><td>6</td></tr>\n",
       "\t<tr><th scope=row>Maserati Bora</th><td>15</td><td>8</td><td>301</td><td>335</td><td>3.54</td><td>3.57</td><td>14.6</td><td>0</td><td>1</td><td>5</td><td>8</td></tr>\n",
       "\t<tr><th scope=row>Volvo 142E</th><td>21.4</td><td>4</td><td>121</td><td>109</td><td>4.11</td><td>2.78</td><td>18.6</td><td>1</td><td>1</td><td>4</td><td>2</td></tr>\n",
       "</tbody>\n",
       "</table>\n"
      ],
      "text/latex": [
       "\\begin{tabular}{r|lllllllllll}\n",
       "  & mpg & cyl & disp & hp & drat & wt & qsec & vs & am & gear & carb\\\\\n",
       "\\hline\n",
       "\tMazda RX4 & 21 & 6 & 160 & 110 & 3.9 & 2.62 & 16.46 & 0 & 1 & 4 & 4\\\\\n",
       "\tMazda RX4 Wag & 21 & 6 & 160 & 110 & 3.9 & 2.875 & 17.02 & 0 & 1 & 4 & 4\\\\\n",
       "\tDatsun 710 & 22.8 & 4 & 108 & 93 & 3.85 & 2.32 & 18.61 & 1 & 1 & 4 & 1\\\\\n",
       "\tHornet 4 Drive & 21.4 & 6 & 258 & 110 & 3.08 & 3.215 & 19.44 & 1 & 0 & 3 & 1\\\\\n",
       "\tHornet Sportabout & 18.7 & 8 & 360 & 175 & 3.15 & 3.44 & 17.02 & 0 & 0 & 3 & 2\\\\\n",
       "\tValiant & 18.1 & 6 & 225 & 105 & 2.76 & 3.46 & 20.22 & 1 & 0 & 3 & 1\\\\\n",
       "\tDuster 360 & 14.3 & 8 & 360 & 245 & 3.21 & 3.57 & 15.84 & 0 & 0 & 3 & 4\\\\\n",
       "\tMerc 240D & 24.4 & 4 & 146.7 & 62 & 3.69 & 3.19 & 20 & 1 & 0 & 4 & 2\\\\\n",
       "\tMerc 230 & 22.8 & 4 & 140.8 & 95 & 3.92 & 3.15 & 22.9 & 1 & 0 & 4 & 2\\\\\n",
       "\tMerc 280 & 19.2 & 6 & 167.6 & 123 & 3.92 & 3.44 & 18.3 & 1 & 0 & 4 & 4\\\\\n",
       "\tMerc 280C & 17.8 & 6 & 167.6 & 123 & 3.92 & 3.44 & 18.9 & 1 & 0 & 4 & 4\\\\\n",
       "\tMerc 450SE & 16.4 & 8 & 275.8 & 180 & 3.07 & 4.07 & 17.4 & 0 & 0 & 3 & 3\\\\\n",
       "\tMerc 450SL & 17.3 & 8 & 275.8 & 180 & 3.07 & 3.73 & 17.6 & 0 & 0 & 3 & 3\\\\\n",
       "\tMerc 450SLC & 15.2 & 8 & 275.8 & 180 & 3.07 & 3.78 & 18 & 0 & 0 & 3 & 3\\\\\n",
       "\tCadillac Fleetwood & 10.4 & 8 & 472 & 205 & 2.93 & 5.25 & 17.98 & 0 & 0 & 3 & 4\\\\\n",
       "\tLincoln Continental & 10.4 & 8 & 460 & 215 & 3 & 5.424 & 17.82 & 0 & 0 & 3 & 4\\\\\n",
       "\tChrysler Imperial & 14.7 & 8 & 440 & 230 & 3.23 & 5.345 & 17.42 & 0 & 0 & 3 & 4\\\\\n",
       "\tFiat 128 & 32.4 & 4 & 78.7 & 66 & 4.08 & 2.2 & 19.47 & 1 & 1 & 4 & 1\\\\\n",
       "\tHonda Civic & 30.4 & 4 & 75.7 & 52 & 4.93 & 1.615 & 18.52 & 1 & 1 & 4 & 2\\\\\n",
       "\tToyota Corolla & 33.9 & 4 & 71.1 & 65 & 4.22 & 1.835 & 19.9 & 1 & 1 & 4 & 1\\\\\n",
       "\tToyota Corona & 21.5 & 4 & 120.1 & 97 & 3.7 & 2.465 & 20.01 & 1 & 0 & 3 & 1\\\\\n",
       "\tDodge Challenger & 15.5 & 8 & 318 & 150 & 2.76 & 3.52 & 16.87 & 0 & 0 & 3 & 2\\\\\n",
       "\tAMC Javelin & 15.2 & 8 & 304 & 150 & 3.15 & 3.435 & 17.3 & 0 & 0 & 3 & 2\\\\\n",
       "\tCamaro Z28 & 13.3 & 8 & 350 & 245 & 3.73 & 3.84 & 15.41 & 0 & 0 & 3 & 4\\\\\n",
       "\tPontiac Firebird & 19.2 & 8 & 400 & 175 & 3.08 & 3.845 & 17.05 & 0 & 0 & 3 & 2\\\\\n",
       "\tFiat X1-9 & 27.3 & 4 & 79 & 66 & 4.08 & 1.935 & 18.9 & 1 & 1 & 4 & 1\\\\\n",
       "\tPorsche 914-2 & 26 & 4 & 120.3 & 91 & 4.43 & 2.14 & 16.7 & 0 & 1 & 5 & 2\\\\\n",
       "\tLotus Europa & 30.4 & 4 & 95.1 & 113 & 3.77 & 1.513 & 16.9 & 1 & 1 & 5 & 2\\\\\n",
       "\tFord Pantera L & 15.8 & 8 & 351 & 264 & 4.22 & 3.17 & 14.5 & 0 & 1 & 5 & 4\\\\\n",
       "\tFerrari Dino & 19.7 & 6 & 145 & 175 & 3.62 & 2.77 & 15.5 & 0 & 1 & 5 & 6\\\\\n",
       "\tMaserati Bora & 15 & 8 & 301 & 335 & 3.54 & 3.57 & 14.6 & 0 & 1 & 5 & 8\\\\\n",
       "\tVolvo 142E & 21.4 & 4 & 121 & 109 & 4.11 & 2.78 & 18.6 & 1 & 1 & 4 & 2\\\\\n",
       "\\end{tabular}\n"
      ],
      "text/plain": [
       "                     mpg cyl  disp  hp drat    wt  qsec vs am gear carb\n",
       "Mazda RX4           21.0   6 160.0 110 3.90 2.620 16.46  0  1    4    4\n",
       "Mazda RX4 Wag       21.0   6 160.0 110 3.90 2.875 17.02  0  1    4    4\n",
       "Datsun 710          22.8   4 108.0  93 3.85 2.320 18.61  1  1    4    1\n",
       "Hornet 4 Drive      21.4   6 258.0 110 3.08 3.215 19.44  1  0    3    1\n",
       "Hornet Sportabout   18.7   8 360.0 175 3.15 3.440 17.02  0  0    3    2\n",
       "Valiant             18.1   6 225.0 105 2.76 3.460 20.22  1  0    3    1\n",
       "Duster 360          14.3   8 360.0 245 3.21 3.570 15.84  0  0    3    4\n",
       "Merc 240D           24.4   4 146.7  62 3.69 3.190 20.00  1  0    4    2\n",
       "Merc 230            22.8   4 140.8  95 3.92 3.150 22.90  1  0    4    2\n",
       "Merc 280            19.2   6 167.6 123 3.92 3.440 18.30  1  0    4    4\n",
       "Merc 280C           17.8   6 167.6 123 3.92 3.440 18.90  1  0    4    4\n",
       "Merc 450SE          16.4   8 275.8 180 3.07 4.070 17.40  0  0    3    3\n",
       "Merc 450SL          17.3   8 275.8 180 3.07 3.730 17.60  0  0    3    3\n",
       "Merc 450SLC         15.2   8 275.8 180 3.07 3.780 18.00  0  0    3    3\n",
       "Cadillac Fleetwood  10.4   8 472.0 205 2.93 5.250 17.98  0  0    3    4\n",
       "Lincoln Continental 10.4   8 460.0 215 3.00 5.424 17.82  0  0    3    4\n",
       "Chrysler Imperial   14.7   8 440.0 230 3.23 5.345 17.42  0  0    3    4\n",
       "Fiat 128            32.4   4  78.7  66 4.08 2.200 19.47  1  1    4    1\n",
       "Honda Civic         30.4   4  75.7  52 4.93 1.615 18.52  1  1    4    2\n",
       "Toyota Corolla      33.9   4  71.1  65 4.22 1.835 19.90  1  1    4    1\n",
       "Toyota Corona       21.5   4 120.1  97 3.70 2.465 20.01  1  0    3    1\n",
       "Dodge Challenger    15.5   8 318.0 150 2.76 3.520 16.87  0  0    3    2\n",
       "AMC Javelin         15.2   8 304.0 150 3.15 3.435 17.30  0  0    3    2\n",
       "Camaro Z28          13.3   8 350.0 245 3.73 3.840 15.41  0  0    3    4\n",
       "Pontiac Firebird    19.2   8 400.0 175 3.08 3.845 17.05  0  0    3    2\n",
       "Fiat X1-9           27.3   4  79.0  66 4.08 1.935 18.90  1  1    4    1\n",
       "Porsche 914-2       26.0   4 120.3  91 4.43 2.140 16.70  0  1    5    2\n",
       "Lotus Europa        30.4   4  95.1 113 3.77 1.513 16.90  1  1    5    2\n",
       "Ford Pantera L      15.8   8 351.0 264 4.22 3.170 14.50  0  1    5    4\n",
       "Ferrari Dino        19.7   6 145.0 175 3.62 2.770 15.50  0  1    5    6\n",
       "Maserati Bora       15.0   8 301.0 335 3.54 3.570 14.60  0  1    5    8\n",
       "Volvo 142E          21.4   4 121.0 109 4.11 2.780 18.60  1  1    4    2"
      ]
     },
     "execution_count": 15,
     "metadata": {},
     "output_type": "execute_result"
    }
   ],
   "source": [
    "mtcars"
   ]
  },
  {
   "cell_type": "code",
   "execution_count": 16,
   "metadata": {
    "collapsed": false
   },
   "outputs": [
    {
     "ename": "ERROR",
     "evalue": "Error in match.fun(FUN): 找不到物件 'cyl'\n",
     "output_type": "error",
     "traceback": [
      "Error in match.fun(FUN): 找不到物件 'cyl'\n"
     ]
    }
   ],
   "source": [
    "sapply(mtcars, cyl, mean)"
   ]
  },
  {
   "cell_type": "code",
   "execution_count": 23,
   "metadata": {
    "collapsed": false
   },
   "outputs": [
    {
     "data": {
      "text/html": [
       "<dl class=dl-horizontal>\n",
       "\t<dt>4</dt>\n",
       "\t\t<dd>26.6636363636364</dd>\n",
       "\t<dt>6</dt>\n",
       "\t\t<dd>19.7428571428571</dd>\n",
       "\t<dt>8</dt>\n",
       "\t\t<dd>15.1</dd>\n",
       "</dl>\n"
      ],
      "text/latex": [
       "\\begin{description*}\n",
       "\\item[4] 26.6636363636364\n",
       "\\item[6] 19.7428571428571\n",
       "\\item[8] 15.1\n",
       "\\end{description*}\n"
      ],
      "text/markdown": [
       "4\n",
       ":   26.66363636363646\n",
       ":   19.74285714285718\n",
       ":   15.1\n",
       "\n"
      ],
      "text/plain": [
       "       4        6        8 \n",
       "26.66364 19.74286 15.10000 "
      ]
     },
     "execution_count": 23,
     "metadata": {},
     "output_type": "execute_result"
    }
   ],
   "source": [
    "sapply(split(mtcars$mpg, mtcars$cyl), mean)"
   ]
  },
  {
   "cell_type": "code",
   "execution_count": 39,
   "metadata": {
    "collapsed": false
   },
   "outputs": [],
   "source": [
    "# ?split"
   ]
  },
  {
   "cell_type": "code",
   "execution_count": 27,
   "metadata": {
    "collapsed": false
   },
   "outputs": [
    {
     "data": {
      "text/html": [
       "<dl class=dl-horizontal>\n",
       "\t<dt>4</dt>\n",
       "\t\t<dd>26.6636363636364</dd>\n",
       "\t<dt>6</dt>\n",
       "\t\t<dd>19.7428571428571</dd>\n",
       "\t<dt>8</dt>\n",
       "\t\t<dd>15.1</dd>\n",
       "</dl>\n"
      ],
      "text/latex": [
       "\\begin{description*}\n",
       "\\item[4] 26.6636363636364\n",
       "\\item[6] 19.7428571428571\n",
       "\\item[8] 15.1\n",
       "\\end{description*}\n"
      ],
      "text/markdown": [
       "4\n",
       ":   26.66363636363646\n",
       ":   19.74285714285718\n",
       ":   15.1\n",
       "\n"
      ],
      "text/plain": [
       "       4        6        8 \n",
       "26.66364 19.74286 15.10000 "
      ]
     },
     "execution_count": 27,
     "metadata": {},
     "output_type": "execute_result"
    }
   ],
   "source": [
    "with(mtcars, tapply(mpg, cyl, mean))"
   ]
  },
  {
   "cell_type": "code",
   "execution_count": 38,
   "metadata": {
    "collapsed": false
   },
   "outputs": [
    {
     "name": "stdout",
     "output_type": "stream",
     "text": [
      "function (X, INDEX, FUN = NULL, ..., simplify = TRUE)  \n"
     ]
    }
   ],
   "source": [
    "str(tapply)\n",
    "# ?tapply"
   ]
  },
  {
   "cell_type": "code",
   "execution_count": 37,
   "metadata": {
    "collapsed": false
   },
   "outputs": [
    {
     "data": {
      "text/html": [
       "<dl class=dl-horizontal>\n",
       "\t<dt>4</dt>\n",
       "\t\t<dd>26.6636363636364</dd>\n",
       "\t<dt>6</dt>\n",
       "\t\t<dd>19.7428571428571</dd>\n",
       "\t<dt>8</dt>\n",
       "\t\t<dd>15.1</dd>\n",
       "</dl>\n"
      ],
      "text/latex": [
       "\\begin{description*}\n",
       "\\item[4] 26.6636363636364\n",
       "\\item[6] 19.7428571428571\n",
       "\\item[8] 15.1\n",
       "\\end{description*}\n"
      ],
      "text/markdown": [
       "4\n",
       ":   26.66363636363646\n",
       ":   19.74285714285718\n",
       ":   15.1\n",
       "\n"
      ],
      "text/plain": [
       "       4        6        8 \n",
       "26.66364 19.74286 15.10000 "
      ]
     },
     "execution_count": 37,
     "metadata": {},
     "output_type": "execute_result"
    }
   ],
   "source": [
    "tapply(mtcars$mpg, mtcars$cyl, mean)"
   ]
  },
  {
   "cell_type": "markdown",
   "metadata": {},
   "source": [
    "<h3>Q4</h3>\n",
    "Continuing with the 'mtcars' dataset from the previous Question, what is the absolute difference between the average horsepower of 4-cylinder cars and the average horsepower of 8-cylinder cars?"
   ]
  },
  {
   "cell_type": "code",
   "execution_count": 43,
   "metadata": {
    "collapsed": false
   },
   "outputs": [
    {
     "data": {
      "text/html": [
       "<strong>4:</strong> 126.577922077922"
      ],
      "text/latex": [
       "\\textbf{4:} 126.577922077922"
      ],
      "text/markdown": [
       "**4:** 126.577922077922"
      ],
      "text/plain": [
       "       4 \n",
       "126.5779 "
      ]
     },
     "execution_count": 43,
     "metadata": {},
     "output_type": "execute_result"
    }
   ],
   "source": [
    "result = sapply(split(mtcars$hp, mtcars$cyl), mean)\n",
    "abs(result[1] - result[3])"
   ]
  },
  {
   "cell_type": "code",
   "execution_count": 47,
   "metadata": {
    "collapsed": false
   },
   "outputs": [],
   "source": [
    "# help(debug)"
   ]
  },
  {
   "cell_type": "markdown",
   "metadata": {},
   "source": [
    "<h1> Assignment: Programming Assignment 2: Lexical Scoping </h1>"
   ]
  },
  {
   "cell_type": "code",
   "execution_count": 49,
   "metadata": {
    "collapsed": true
   },
   "outputs": [],
   "source": [
    "a = b = c = 6"
   ]
  },
  {
   "cell_type": "code",
   "execution_count": 54,
   "metadata": {
    "collapsed": false
   },
   "outputs": [],
   "source": [
    "makeVector <- function(x = numeric()) {\n",
    "        m <- NULL\n",
    "        set <- function(y) {\n",
    "            \n",
    "                # <<- this operator assigns value of other environment.\n",
    "                # so here, it assign the value to the parent environment of this function \n",
    "                x <<- y\n",
    "                m <<- NULL\n",
    "        }\n",
    "        get <- function() x\n",
    "        setmean <- function(mean) m <<- mean\n",
    "        getmean <- function() m\n",
    "        list(set = set, get = get,\n",
    "             setmean = setmean,\n",
    "             getmean = getmean)\n",
    "}\n",
    "            \n",
    "test = makeVector(c(3,4,5,6,7,8))"
   ]
  },
  {
   "cell_type": "code",
   "execution_count": 57,
   "metadata": {
    "collapsed": true
   },
   "outputs": [],
   "source": [
    "cachemean <- function(x, ...) {\n",
    "        m <- x$getmean()\n",
    "        if(!is.null(m)) {\n",
    "                message(\"getting cached data\")\n",
    "                return(m)\n",
    "        }\n",
    "        data <- x$get()\n",
    "        m <- mean(data, ...)\n",
    "        x$setmean(m)\n",
    "        m\n",
    "}"
   ]
  },
  {
   "cell_type": "code",
   "execution_count": 58,
   "metadata": {
    "collapsed": false
   },
   "outputs": [
    {
     "data": {
      "text/html": [
       "5.5"
      ],
      "text/latex": [
       "5.5"
      ],
      "text/markdown": [
       "5.5"
      ],
      "text/plain": [
       "[1] 5.5"
      ]
     },
     "execution_count": 58,
     "metadata": {},
     "output_type": "execute_result"
    }
   ],
   "source": [
    "cachemean(test)"
   ]
  },
  {
   "cell_type": "markdown",
   "metadata": {},
   "source": [
    "<h2> Cache the reverse of Matrix</h2>\n",
    "Matrix inversion is usually a costly computation and there may be some benefit to caching the inverse of a matrix rather than compute it repeatedly (there are also alternatives to matrix inversion that we will not discuss here). Your assignment is to write a pair of functions that cache the inverse of a matrix.\n",
    "\n",
    "Write the following functions:\n",
    "\n",
    "makeCacheMatrix: This function creates a special \"matrix\" object that can cache its inverse.\n",
    "cacheSolve: This function computes the inverse of the special \"matrix\" returned by makeCacheMatrix above. If the inverse has already been calculated (and the matrix has not changed), then the cachesolve should retrieve the inverse from the cache.\n",
    "Computing the inverse of a square matrix can be done with the solve function in R. For example, if X is a square invertible matrix, then solve(X) returns its inverse.\n",
    "\n",
    "For this assignment, assume that the matrix supplied is always invertible.\n",
    "\n",
    "In order to complete this assignment, you must do the following:\n",
    "\n",
    "Fork the GitHub repository containing the stub R files at https://github.com/rdpeng/ProgrammingAssignment2 to create a copy under your own account.\n",
    "Clone your forked GitHub repository to your computer so that you can edit the files locally on your own machine.\n",
    "Edit the R file contained in the git repository and place your solution in that file (please do not rename the file).\n",
    "Commit your completed R file into YOUR git repository and push your git branch to the GitHub repository under your account.\n",
    "Submit to Coursera the URL to your GitHub repository that contains the completed R code for the assignment.\n",
    "In addition to submitting the URL for your GitHub repository, you will need to submit the 40 character SHA-1 hash (as string of numbers from 0-9 and letters from a-f) that identifies the repository commit that contains the version of the files you want to submit. You can do this in GitHub by doing the following\n",
    "\n",
    "Going to your GitHub repository web page for this assignment\n",
    "Click on the “?? commits” link where ?? is the number of commits you have in the repository. For example, if you made a total of 10 commits to this repository, the link should say “10 commits”.\n",
    "You will see a list of commits that you have made to this repository. The most recent commit is at the very top. If this represents the version of the files you want to submit, then just click the “copy to clipboard” button on the right hand side that should appear when you hover over the SHA-1 hash. Paste this SHA-1 hash into the course web site when you submit your assignment. If you don't want to use the most recent commit, then go down and find the commit you want and copy the SHA-1 hash.\n",
    "A valid submission will look something like (this is just an example!)"
   ]
  },
  {
   "cell_type": "code",
   "execution_count": null,
   "metadata": {
    "collapsed": true
   },
   "outputs": [],
   "source": [
    "makeCacheMatrix <- function(data, dim, ...){\n",
    "    x = matrix(data, dim)\n",
    "    inverse_ x = NULL\n",
    "    set <- function(y){\n",
    "        x <<- y\n",
    "        inverse_x <- NULL\n",
    "    }\n",
    "    get <- function()x\n",
    "    get_inverse <- function() inverse_x\n",
    "    set_inverse <- function(inverse) inverse_x <- inverse\n",
    "    list(set = set,get = get, get_inverse = get_inverse, set_inverse = set_inverse )\n",
    "\n",
    "}\n",
    "        \n",
    "cacheSolve <- function(x){\n",
    "    \n",
    "    if(!is.null(x$get_inverse)){\n",
    "        # got cached inverse matrix\n",
    "    }\n",
    "    \n",
    "}\n"
   ]
  },
  {
   "cell_type": "code",
   "execution_count": 61,
   "metadata": {
    "collapsed": false
   },
   "outputs": [
    {
     "data": {
      "text/html": [
       "<table>\n",
       "<tbody>\n",
       "\t<tr><td>12</td><td> 4</td></tr>\n",
       "\t<tr><td>23</td><td> 5</td></tr>\n",
       "\t<tr><td>44</td><td> 6</td></tr>\n",
       "</tbody>\n",
       "</table>\n"
      ],
      "text/latex": [
       "\\begin{tabular}{ll}\n",
       "\t 12 &  4\\\\\n",
       "\t 23 &  5\\\\\n",
       "\t 44 &  6\\\\\n",
       "\\end{tabular}\n"
      ],
      "text/markdown": [
       "1. 12\n",
       "2. 23\n",
       "3. 44\n",
       "4. 4\n",
       "5. 5\n",
       "6. 6\n",
       "\n",
       "\n"
      ],
      "text/plain": [
       "     [,1] [,2]\n",
       "[1,]   12    4\n",
       "[2,]   23    5\n",
       "[3,]   44    6"
      ]
     },
     "execution_count": 61,
     "metadata": {},
     "output_type": "execute_result"
    }
   ],
   "source": [
    "matrix(c(12,23,44,4,5,6), c(3,2))"
   ]
  },
  {
   "cell_type": "code",
   "execution_count": null,
   "metadata": {
    "collapsed": true
   },
   "outputs": [],
   "source": []
  }
 ],
 "metadata": {
  "kernelspec": {
   "display_name": "R",
   "language": "R",
   "name": "ir"
  },
  "language_info": {
   "codemirror_mode": "r",
   "file_extension": ".r",
   "mimetype": "text/x-r-source",
   "name": "R",
   "pygments_lexer": "r",
   "version": "3.2.2"
  }
 },
 "nbformat": 4,
 "nbformat_minor": 0
}
