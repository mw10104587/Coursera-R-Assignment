{
 "cells": [
  {
   "cell_type": "code",
   "execution_count": 1,
   "metadata": {
    "collapsed": true
   },
   "outputs": [],
   "source": [
    "cube <- function(x, n) {\n",
    "        x^3\n",
    "}"
   ]
  },
  {
   "cell_type": "code",
   "execution_count": 2,
   "metadata": {
    "collapsed": false
   },
   "outputs": [
    {
     "data": {
      "text/html": [
       "27"
      ],
      "text/latex": [
       "27"
      ],
      "text/markdown": [
       "27"
      ],
      "text/plain": [
       "[1] 27"
      ]
     },
     "execution_count": 2,
     "metadata": {},
     "output_type": "execute_result"
    }
   ],
   "source": [
    "cube(3)"
   ]
  },
  {
   "cell_type": "code",
   "execution_count": 3,
   "metadata": {
    "collapsed": true
   },
   "outputs": [],
   "source": [
    "f <- function(x) {\n",
    "        g <- function(y) {\n",
    "                y + z\n",
    "        }\n",
    "        z <- 4\n",
    "        x + g(x)\n",
    "}"
   ]
  },
  {
   "cell_type": "code",
   "execution_count": 4,
   "metadata": {
    "collapsed": false
   },
   "outputs": [
    {
     "data": {
      "text/html": [
       "10"
      ],
      "text/latex": [
       "10"
      ],
      "text/markdown": [
       "10"
      ],
      "text/plain": [
       "[1] 10"
      ]
     },
     "execution_count": 4,
     "metadata": {},
     "output_type": "execute_result"
    }
   ],
   "source": [
    "z <- 10\n",
    "f(3)"
   ]
  },
  {
   "cell_type": "code",
   "execution_count": 5,
   "metadata": {
    "collapsed": true
   },
   "outputs": [],
   "source": [
    "x <- 5\n",
    "y <- if(x < 3) {\n",
    "        NA\n",
    "} else {\n",
    "        10\n",
    "}"
   ]
  },
  {
   "cell_type": "code",
   "execution_count": 6,
   "metadata": {
    "collapsed": false
   },
   "outputs": [
    {
     "data": {
      "text/html": [
       "10"
      ],
      "text/latex": [
       "10"
      ],
      "text/markdown": [
       "10"
      ],
      "text/plain": [
       "[1] 10"
      ]
     },
     "execution_count": 6,
     "metadata": {},
     "output_type": "execute_result"
    }
   ],
   "source": [
    "y"
   ]
  },
  {
   "cell_type": "markdown",
   "metadata": {},
   "source": [
    "<h2>Part 1</h2>\n",
    "\n",
    "Write a function named 'pollutantmean' that calculates the mean of a pollutant (sulfate or nitrate) across a specified list of monitors. The function 'pollutantmean' takes three arguments: 'directory', 'pollutant', and 'id'. Given a vector monitor ID numbers, 'pollutantmean' reads that monitors' particulate matter data from the directory specified in the 'directory' argument and returns the mean of the pollutant across all of the monitors, ignoring any missing values coded as NA. A prototype of the function is as follows"
   ]
  },
  {
   "cell_type": "code",
   "execution_count": 73,
   "metadata": {
    "collapsed": false
   },
   "outputs": [
    {
     "data": {
      "text/html": [
       "3.76564059985369"
      ],
      "text/latex": [
       "3.76564059985369"
      ],
      "text/markdown": [
       "3.76564059985369"
      ],
      "text/plain": [
       "[1] 3.765641"
      ]
     },
     "execution_count": 73,
     "metadata": {},
     "output_type": "execute_result"
    }
   ],
   "source": [
    "# function one done\n",
    "\n",
    "pollutantmean = function(directory, pollutant, id=1:332){\n",
    "    \n",
    "    # pollutant has two values, sulfate and nitrate\n",
    "    data_to_count = data.frame(Date=as.Date(character()),\n",
    "                 sulfate=double(), \n",
    "                 nitrate=double(), \n",
    "                 ID = integer(),\n",
    "                 stringsAsFactors=FALSE) \n",
    "    \n",
    "    files = list.files(\"data/specdata\")[id]\n",
    "    \n",
    "    for(file_name in files){\n",
    "        \n",
    "        file = read.csv(paste(directory, \"/\", file_name, sep=\"\"), stringsAsFactors=FALSE)\n",
    "        data_to_count = rbind(data_to_count, file)\n",
    "    }\n",
    "    \n",
    "    # it's na.rm not rm.na\n",
    "    # use double bracket to get the inner class, orelse single bracket only returns the same class, which is\n",
    "    # a data.frame\n",
    "    mean(data_to_count[[pollutant]], na.rm=TRUE)\n",
    "\n",
    "}\n",
    "\n",
    "pollutantmean(\"data/specdata\",\"sulfate\", 1:12)\n"
   ]
  },
  {
   "cell_type": "markdown",
   "metadata": {},
   "source": [
    "<h2>Part 2</h2>\n",
    "\n",
    "Write a function that reads a directory full of files and reports the number of completely observed cases in each data file. The function should return a data frame where the first column is the name of the file and the second column is the number of complete cases. A prototype of this function follows"
   ]
  },
  {
   "cell_type": "code",
   "execution_count": 87,
   "metadata": {
    "collapsed": false
   },
   "outputs": [
    {
     "name": "stdout",
     "output_type": "stream",
     "text": [
      "[1] \"002.csv\"\n",
      "[1] \"003.csv\"\n",
      "[1] \"004.csv\"\n"
     ]
    },
    {
     "data": {
      "text/html": [
       "<table>\n",
       "<thead><tr><th></th><th scope=col>id</th><th scope=col>nobs</th></tr></thead>\n",
       "<tbody>\n",
       "\t<tr><th scope=row>1</th><td>2</td><td>1041</td></tr>\n",
       "\t<tr><th scope=row>2</th><td>3</td><td>243</td></tr>\n",
       "\t<tr><th scope=row>3</th><td>4</td><td>474</td></tr>\n",
       "</tbody>\n",
       "</table>\n"
      ],
      "text/latex": [
       "\\begin{tabular}{r|ll}\n",
       "  & id & nobs\\\\\n",
       "\\hline\n",
       "\t1 & 2 & 1041\\\\\n",
       "\t2 & 3 & 243\\\\\n",
       "\t3 & 4 & 474\\\\\n",
       "\\end{tabular}\n"
      ],
      "text/plain": [
       "  id nobs\n",
       "1  2 1041\n",
       "2  3  243\n",
       "3  4  474"
      ]
     },
     "execution_count": 87,
     "metadata": {},
     "output_type": "execute_result"
    }
   ],
   "source": [
    "complete = function(directory, id=1:332){\n",
    "    \n",
    "    # final objct to return\n",
    "    complete_data = data.frame(id=integer(),nobs=integer() )\n",
    "    \n",
    "    # use the numeric for loop here, instead of looping through the name,    \n",
    "    # so we can use the number as id.     \n",
    "    for(my_id in id){\n",
    "        \n",
    "        file_name = list.files(directory)[my_id]\n",
    "        path = paste(directory, \"/\", file_name, sep=\"\")\n",
    "        \n",
    "        observe_station = read.csv(path)\n",
    "        observe_station = observe_station[complete.cases(observe_station),]\n",
    "        complete_count = dim(observe_station)[1]\n",
    "        \n",
    "        # append it to the final data\n",
    "        complete_data = rbind(complete_data, data.frame(id=c(my_id), nobs=c(complete_count)))\n",
    "    }\n",
    "    \n",
    "    return(complete_data)\n",
    "}\n",
    "\n",
    "complete(\"data/specdata\", 2:4)"
   ]
  },
  {
   "cell_type": "markdown",
   "metadata": {},
   "source": [
    "<h2>Part 3</h2>\n",
    "\n",
    "Write a function that takes a directory of data files and a threshold for complete cases and calculates the correlation between sulfate and nitrate for monitor locations where the number of completely observed cases (on all variables) is greater than the threshold. The function should return a vector of correlations for the monitors that meet the threshold requirement. If no monitors meet the threshold requirement, then the function should return a numeric vector of length 0. A prototype of this function follows"
   ]
  },
  {
   "cell_type": "code",
   "execution_count": null,
   "metadata": {
    "collapsed": true
   },
   "outputs": [],
   "source": [
    "corr = function(directory, threshold=0){\n",
    "    \n",
    "    corr_vec = double()\n",
    "    # returns a vector of correlations\n",
    "    \n",
    "    for(file_name in list.files(directory)){\n",
    "        \n",
    "        # if the number of complete is larger than threshold, \n",
    "        # we count the corr, and append.\n",
    "        \n",
    "        \n",
    "        \n",
    "    }\n",
    "    \n",
    "}"
   ]
  }
 ],
 "metadata": {
  "kernelspec": {
   "display_name": "R",
   "language": "R",
   "name": "ir"
  },
  "language_info": {
   "codemirror_mode": "r",
   "file_extension": ".r",
   "mimetype": "text/x-r-source",
   "name": "R",
   "pygments_lexer": "r",
   "version": "3.2.2"
  }
 },
 "nbformat": 4,
 "nbformat_minor": 0
}
