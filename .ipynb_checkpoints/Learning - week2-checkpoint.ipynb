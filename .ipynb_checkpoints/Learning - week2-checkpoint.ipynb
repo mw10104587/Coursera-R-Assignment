{
 "cells": [
  {
   "cell_type": "code",
   "execution_count": 1,
   "metadata": {
    "collapsed": true
   },
   "outputs": [],
   "source": [
    "# break in R, is next"
   ]
  },
  {
   "cell_type": "code",
   "execution_count": 2,
   "metadata": {
    "collapsed": false
   },
   "outputs": [
    {
     "data": {
      "text/html": [
       "10"
      ],
      "text/latex": [
       "10"
      ],
      "text/markdown": [
       "10"
      ],
      "text/plain": [
       "[1] 10"
      ]
     },
     "execution_count": 2,
     "metadata": {},
     "output_type": "execute_result"
    }
   ],
   "source": [
    "# readability for assigning values,\n",
    "\n",
    "x = 3\n",
    "\n",
    "y = if( x > 2){\n",
    "    10\n",
    "}else{\n",
    "    9\n",
    "}\n",
    "\n",
    "y"
   ]
  },
  {
   "cell_type": "code",
   "execution_count": 6,
   "metadata": {
    "collapsed": false
   },
   "outputs": [
    {
     "name": "stdout",
     "output_type": "stream",
     "text": [
      "[1] 1\n",
      "[1] 2\n",
      "[1] 3\n",
      "[1] 4\n",
      "[1] 5\n",
      "[1] 6\n",
      "[1] 7\n",
      "[1] 8\n",
      "[1] 9\n",
      "[1] 10\n",
      "[1] \"a\"\n",
      "[1] \"b\"\n",
      "[1] \"c\"\n",
      "[1] \"d\"\n",
      "[1] \"a\"\n",
      "[1] \"b\"\n",
      "[1] \"c\"\n",
      "[1] \"d\"\n",
      "[1] \"a\"\n",
      "[1] \"b\"\n",
      "[1] \"c\"\n",
      "[1] \"d\"\n"
     ]
    }
   ],
   "source": [
    "for (i in 1:10){\n",
    "    print(i)\n",
    "}\n",
    "\n",
    "x = c(\"a\", \"b\", \"c\", \"d\")\n",
    "\n",
    "for (i in seq_along(x)){\n",
    "    print(x[i])\n",
    "}\n",
    "\n",
    "for (letter in x){\n",
    "    print(letter)\n",
    "}\n",
    "\n",
    "# can make it one line.\n",
    "for(i in 1:4) print(x[i])"
   ]
  },
  {
   "cell_type": "code",
   "execution_count": 7,
   "metadata": {
    "collapsed": false
   },
   "outputs": [
    {
     "data": {
      "text/html": [
       "<ol class=list-inline>\n",
       "\t<li>1</li>\n",
       "\t<li>2</li>\n",
       "\t<li>3</li>\n",
       "\t<li>4</li>\n",
       "\t<li>5</li>\n",
       "\t<li>6</li>\n",
       "\t<li>7</li>\n",
       "\t<li>8</li>\n",
       "\t<li>9</li>\n",
       "\t<li>10</li>\n",
       "</ol>\n"
      ],
      "text/latex": [
       "\\begin{enumerate*}\n",
       "\\item 1\n",
       "\\item 2\n",
       "\\item 3\n",
       "\\item 4\n",
       "\\item 5\n",
       "\\item 6\n",
       "\\item 7\n",
       "\\item 8\n",
       "\\item 9\n",
       "\\item 10\n",
       "\\end{enumerate*}\n"
      ],
      "text/markdown": [
       "1. 1\n",
       "2. 2\n",
       "3. 3\n",
       "4. 4\n",
       "5. 5\n",
       "6. 6\n",
       "7. 7\n",
       "8. 8\n",
       "9. 9\n",
       "10. 10\n",
       "\n",
       "\n"
      ],
      "text/plain": [
       " [1]  1  2  3  4  5  6  7  8  9 10"
      ]
     },
     "execution_count": 7,
     "metadata": {},
     "output_type": "execute_result"
    }
   ],
   "source": [
    "# seq_len\n",
    "# take a int and make a int sequence.\n",
    "seq_len(10)"
   ]
  },
  {
   "cell_type": "code",
   "execution_count": null,
   "metadata": {
    "collapsed": true
   },
   "outputs": [],
   "source": [
    "# repeat, initiate a infinite loop\n",
    "# you can \"break\" it at some point.\n",
    "\n",
    "x0 = 1\n",
    "tol = 1e-8\n",
    "\n",
    "repeat{\n",
    "    x1 = computeEstimate()\n",
    "    \n",
    "    if(abs(x1-x0) < tol){\n",
    "        break\n",
    "    }else{\n",
    "        x0 = x1\n",
    "    }\n",
    "}\n",
    "\n",
    "# infinite loop is still danger, should use for loop with a hard limit and check whether it converged or not."
   ]
  },
  {
   "cell_type": "code",
   "execution_count": 8,
   "metadata": {
    "collapsed": true
   },
   "outputs": [],
   "source": [
    "# next can be used in any kind of loop, and it skips an iteration\n",
    "\n",
    "for(i in 1:100){\n",
    "    if (i<=20){\n",
    "        next\n",
    "    }\n",
    "    \n",
    "    # Do something\n",
    "}"
   ]
  },
  {
   "cell_type": "code",
   "execution_count": 9,
   "metadata": {
    "collapsed": false
   },
   "outputs": [
    {
     "data": {
      "text/html": [
       "3"
      ],
      "text/latex": [
       "3"
      ],
      "text/markdown": [
       "3"
      ],
      "text/plain": [
       "[1] 3"
      ]
     },
     "execution_count": 9,
     "metadata": {},
     "output_type": "execute_result"
    }
   ],
   "source": [
    "# write a function\n",
    "add = function(a, b){\n",
    "#     the function returns the last expression, so we don't need to return\n",
    "    a + b\n",
    "}\n",
    "\n",
    "add(1,2)"
   ]
  },
  {
   "cell_type": "code",
   "execution_count": 12,
   "metadata": {
    "collapsed": false
   },
   "outputs": [
    {
     "data": {
      "text/html": [
       "<ol class=list-inline>\n",
       "\t<li>11</li>\n",
       "\t<li>14</li>\n",
       "\t<li>15</li>\n",
       "\t<li>222</li>\n",
       "\t<li>34234</li>\n",
       "</ol>\n"
      ],
      "text/latex": [
       "\\begin{enumerate*}\n",
       "\\item 11\n",
       "\\item 14\n",
       "\\item 15\n",
       "\\item 222\n",
       "\\item 34234\n",
       "\\end{enumerate*}\n"
      ],
      "text/markdown": [
       "1. 11\n",
       "2. 14\n",
       "3. 15\n",
       "4. 222\n",
       "5. 34234\n",
       "\n",
       "\n"
      ],
      "text/plain": [
       "[1]    11    14    15   222 34234"
      ]
     },
     "execution_count": 12,
     "metadata": {},
     "output_type": "execute_result"
    },
    {
     "data": {
      "text/html": [
       "<ol class=list-inline>\n",
       "\t<li>15</li>\n",
       "\t<li>222</li>\n",
       "\t<li>34234</li>\n",
       "</ol>\n"
      ],
      "text/latex": [
       "\\begin{enumerate*}\n",
       "\\item 15\n",
       "\\item 222\n",
       "\\item 34234\n",
       "\\end{enumerate*}\n"
      ],
      "text/markdown": [
       "1. 15\n",
       "2. 222\n",
       "3. 34234\n",
       "\n",
       "\n"
      ],
      "text/plain": [
       "[1]    15   222 34234"
      ]
     },
     "execution_count": 12,
     "metadata": {},
     "output_type": "execute_result"
    }
   ],
   "source": [
    "above_10 = function(x){\n",
    "    x[x > 10]\n",
    "}\n",
    "\n",
    "# teacher's function\n",
    "\n",
    "above10 = function(x){\n",
    "    use = x > 10\n",
    "    x[use]\n",
    "}\n",
    "\n",
    "\n",
    "# default value.!\n",
    "above_n = function(x, n = 10){\n",
    "    use = x > n\n",
    "    x[use]\n",
    "}\n",
    "\n",
    "above_10(c(1,2,3,4,5,11,1,2,14,15,222,34234))\n",
    "above_n(c(1,2,3,4,5,11,1,2,14,15,222,34234), 14)"
   ]
  },
  {
   "cell_type": "code",
   "execution_count": 33,
   "metadata": {
    "collapsed": false
   },
   "outputs": [
    {
     "data": {
      "text/html": [
       "<table>\n",
       "<tbody>\n",
       "\t<tr><td> 1</td><td>NA</td></tr>\n",
       "\t<tr><td>2</td><td>7</td></tr>\n",
       "\t<tr><td>3</td><td>8</td></tr>\n",
       "\t<tr><td>4</td><td>9</td></tr>\n",
       "\t<tr><td> 5</td><td>10</td></tr>\n",
       "</tbody>\n",
       "</table>\n"
      ],
      "text/latex": [
       "\\begin{tabular}{ll}\n",
       "\t  1 & NA\\\\\n",
       "\t 2 & 7\\\\\n",
       "\t 3 & 8\\\\\n",
       "\t 4 & 9\\\\\n",
       "\t  5 & 10\\\\\n",
       "\\end{tabular}\n"
      ],
      "text/markdown": [
       "1. 1\n",
       "2. 2\n",
       "3. 3\n",
       "4. 4\n",
       "5. 5\n",
       "6. NA\n",
       "7. 7\n",
       "8. 8\n",
       "9. 9\n",
       "10. 10\n",
       "\n",
       "\n"
      ],
      "text/plain": [
       "     [,1] [,2]\n",
       "[1,]    1   NA\n",
       "[2,]    2    7\n",
       "[3,]    3    8\n",
       "[4,]    4    9\n",
       "[5,]    5   10"
      ]
     },
     "execution_count": 33,
     "metadata": {},
     "output_type": "execute_result"
    },
    {
     "data": {
      "text/html": [
       "2"
      ],
      "text/latex": [
       "2"
      ],
      "text/markdown": [
       "2"
      ],
      "text/plain": [
       "[1] 2"
      ]
     },
     "execution_count": 33,
     "metadata": {},
     "output_type": "execute_result"
    },
    {
     "data": {
      "text/html": [
       "<ol class=list-inline>\n",
       "\t<li>3</li>\n",
       "\t<li>8.5</li>\n",
       "</ol>\n"
      ],
      "text/latex": [
       "\\begin{enumerate*}\n",
       "\\item 3\n",
       "\\item 8.5\n",
       "\\end{enumerate*}\n"
      ],
      "text/markdown": [
       "1. 3\n",
       "2. 8.5\n",
       "\n",
       "\n"
      ],
      "text/plain": [
       "[1] 3.0 8.5"
      ]
     },
     "execution_count": 33,
     "metadata": {},
     "output_type": "execute_result"
    },
    {
     "data": {
      "text/html": [
       "<ol class=list-inline>\n",
       "\t<li>3</li>\n",
       "\t<li>NA</li>\n",
       "</ol>\n"
      ],
      "text/latex": [
       "\\begin{enumerate*}\n",
       "\\item 3\n",
       "\\item NA\n",
       "\\end{enumerate*}\n"
      ],
      "text/markdown": [
       "1. 3\n",
       "2. NA\n",
       "\n",
       "\n"
      ],
      "text/plain": [
       "[1]  3 NA"
      ]
     },
     "execution_count": 33,
     "metadata": {},
     "output_type": "execute_result"
    }
   ],
   "source": [
    "dataset = matrix(c(1,2,3,4,5,NA,7,8,9,10), ncol=2, nrow=5)\n",
    "dataset\n",
    "\n",
    "column_mean = function(y, removeNA = TRUE){\n",
    "    vector_length = ncol(y)\n",
    "    \n",
    "    # make a mean vector with the same length\n",
    "    means = numeric(vector_length)\n",
    "    for(i in seq_len(vector_length)){\n",
    "        means[i] = mean(y[,i], na.rm = removeNA)\n",
    "    }\n",
    "    \n",
    "    means\n",
    "}\n",
    "\n",
    "ncol(dataset)\n",
    "column_mean(dataset)\n",
    "column_mean(dataset, FALSE)\n",
    "\n",
    "# gives you a vector of the length in bracket\n",
    "# numeric(10)\n",
    "# character(10)\n",
    "\n"
   ]
  },
  {
   "cell_type": "code",
   "execution_count": null,
   "metadata": {
    "collapsed": false
   },
   "outputs": [],
   "source": []
  },
  {
   "cell_type": "code",
   "execution_count": null,
   "metadata": {
    "collapsed": true
   },
   "outputs": [],
   "source": []
  }
 ],
 "metadata": {
  "kernelspec": {
   "display_name": "R",
   "language": "R",
   "name": "ir"
  },
  "language_info": {
   "codemirror_mode": "r",
   "file_extension": ".r",
   "mimetype": "text/x-r-source",
   "name": "R",
   "pygments_lexer": "r",
   "version": "3.2.2"
  }
 },
 "nbformat": 4,
 "nbformat_minor": 0
}
